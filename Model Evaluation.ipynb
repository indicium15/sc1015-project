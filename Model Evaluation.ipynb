{
  "cells": [
    {
      "cell_type": "code",
      "execution_count": 4,
      "metadata": {
        "id": "96-qSqULzTfJ"
      },
      "outputs": [],
      "source": [
        "import numpy as np\n",
        "import pandas as pd\n",
        "import matplotlib.pyplot as plt\n",
        "import gensim\n",
        "import seaborn as sb"
      ]
    },
    {
      "cell_type": "code",
      "execution_count": 6,
      "metadata": {
        "id": "SXLLTCwczTfJ"
      },
      "outputs": [],
      "source": [
        "from tensorflow.keras.models import Sequential\n",
        "from tensorflow.keras.layers import Dense, Embedding, LSTM\n",
        "from tensorflow.keras.preprocessing.text import Tokenizer\n",
        "from tensorflow.keras.preprocessing.sequence import pad_sequences\n",
        "from sklearn.model_selection import train_test_split\n",
        "from sklearn.metrics import accuracy_score"
      ]
    },
    {
      "cell_type": "code",
      "execution_count": 7,
      "metadata": {
        "id": "J7_us6xwzTfJ",
        "outputId": "d3291640-574a-43bb-b330-483baecace54",
        "colab": {
          "base_uri": "https://localhost:8080/",
          "height": 206
        }
      },
      "outputs": [
        {
          "output_type": "execute_result",
          "data": {
            "text/plain": [
              "                                               title  class\n",
              "0  donald trump sends out embarrassing new years ...      0\n",
              "1  drunk bragging trump staffer started russian c...      0\n",
              "2  sheriff david clarke becomes an internet joke ...      0\n",
              "3  trump is so obsessed he even has obamas name c...      0\n",
              "4  pope francis just called out donald trump duri...      0"
            ],
            "text/html": [
              "\n",
              "  <div id=\"df-96dbfcee-3ee8-44a3-bc5c-ec37ff88acf4\">\n",
              "    <div class=\"colab-df-container\">\n",
              "      <div>\n",
              "<style scoped>\n",
              "    .dataframe tbody tr th:only-of-type {\n",
              "        vertical-align: middle;\n",
              "    }\n",
              "\n",
              "    .dataframe tbody tr th {\n",
              "        vertical-align: top;\n",
              "    }\n",
              "\n",
              "    .dataframe thead th {\n",
              "        text-align: right;\n",
              "    }\n",
              "</style>\n",
              "<table border=\"1\" class=\"dataframe\">\n",
              "  <thead>\n",
              "    <tr style=\"text-align: right;\">\n",
              "      <th></th>\n",
              "      <th>title</th>\n",
              "      <th>class</th>\n",
              "    </tr>\n",
              "  </thead>\n",
              "  <tbody>\n",
              "    <tr>\n",
              "      <th>0</th>\n",
              "      <td>donald trump sends out embarrassing new years ...</td>\n",
              "      <td>0</td>\n",
              "    </tr>\n",
              "    <tr>\n",
              "      <th>1</th>\n",
              "      <td>drunk bragging trump staffer started russian c...</td>\n",
              "      <td>0</td>\n",
              "    </tr>\n",
              "    <tr>\n",
              "      <th>2</th>\n",
              "      <td>sheriff david clarke becomes an internet joke ...</td>\n",
              "      <td>0</td>\n",
              "    </tr>\n",
              "    <tr>\n",
              "      <th>3</th>\n",
              "      <td>trump is so obsessed he even has obamas name c...</td>\n",
              "      <td>0</td>\n",
              "    </tr>\n",
              "    <tr>\n",
              "      <th>4</th>\n",
              "      <td>pope francis just called out donald trump duri...</td>\n",
              "      <td>0</td>\n",
              "    </tr>\n",
              "  </tbody>\n",
              "</table>\n",
              "</div>\n",
              "      <button class=\"colab-df-convert\" onclick=\"convertToInteractive('df-96dbfcee-3ee8-44a3-bc5c-ec37ff88acf4')\"\n",
              "              title=\"Convert this dataframe to an interactive table.\"\n",
              "              style=\"display:none;\">\n",
              "        \n",
              "  <svg xmlns=\"http://www.w3.org/2000/svg\" height=\"24px\"viewBox=\"0 0 24 24\"\n",
              "       width=\"24px\">\n",
              "    <path d=\"M0 0h24v24H0V0z\" fill=\"none\"/>\n",
              "    <path d=\"M18.56 5.44l.94 2.06.94-2.06 2.06-.94-2.06-.94-.94-2.06-.94 2.06-2.06.94zm-11 1L8.5 8.5l.94-2.06 2.06-.94-2.06-.94L8.5 2.5l-.94 2.06-2.06.94zm10 10l.94 2.06.94-2.06 2.06-.94-2.06-.94-.94-2.06-.94 2.06-2.06.94z\"/><path d=\"M17.41 7.96l-1.37-1.37c-.4-.4-.92-.59-1.43-.59-.52 0-1.04.2-1.43.59L10.3 9.45l-7.72 7.72c-.78.78-.78 2.05 0 2.83L4 21.41c.39.39.9.59 1.41.59.51 0 1.02-.2 1.41-.59l7.78-7.78 2.81-2.81c.8-.78.8-2.07 0-2.86zM5.41 20L4 18.59l7.72-7.72 1.47 1.35L5.41 20z\"/>\n",
              "  </svg>\n",
              "      </button>\n",
              "      \n",
              "  <style>\n",
              "    .colab-df-container {\n",
              "      display:flex;\n",
              "      flex-wrap:wrap;\n",
              "      gap: 12px;\n",
              "    }\n",
              "\n",
              "    .colab-df-convert {\n",
              "      background-color: #E8F0FE;\n",
              "      border: none;\n",
              "      border-radius: 50%;\n",
              "      cursor: pointer;\n",
              "      display: none;\n",
              "      fill: #1967D2;\n",
              "      height: 32px;\n",
              "      padding: 0 0 0 0;\n",
              "      width: 32px;\n",
              "    }\n",
              "\n",
              "    .colab-df-convert:hover {\n",
              "      background-color: #E2EBFA;\n",
              "      box-shadow: 0px 1px 2px rgba(60, 64, 67, 0.3), 0px 1px 3px 1px rgba(60, 64, 67, 0.15);\n",
              "      fill: #174EA6;\n",
              "    }\n",
              "\n",
              "    [theme=dark] .colab-df-convert {\n",
              "      background-color: #3B4455;\n",
              "      fill: #D2E3FC;\n",
              "    }\n",
              "\n",
              "    [theme=dark] .colab-df-convert:hover {\n",
              "      background-color: #434B5C;\n",
              "      box-shadow: 0px 1px 3px 1px rgba(0, 0, 0, 0.15);\n",
              "      filter: drop-shadow(0px 1px 2px rgba(0, 0, 0, 0.3));\n",
              "      fill: #FFFFFF;\n",
              "    }\n",
              "  </style>\n",
              "\n",
              "      <script>\n",
              "        const buttonEl =\n",
              "          document.querySelector('#df-96dbfcee-3ee8-44a3-bc5c-ec37ff88acf4 button.colab-df-convert');\n",
              "        buttonEl.style.display =\n",
              "          google.colab.kernel.accessAllowed ? 'block' : 'none';\n",
              "\n",
              "        async function convertToInteractive(key) {\n",
              "          const element = document.querySelector('#df-96dbfcee-3ee8-44a3-bc5c-ec37ff88acf4');\n",
              "          const dataTable =\n",
              "            await google.colab.kernel.invokeFunction('convertToInteractive',\n",
              "                                                     [key], {});\n",
              "          if (!dataTable) return;\n",
              "\n",
              "          const docLinkHtml = 'Like what you see? Visit the ' +\n",
              "            '<a target=\"_blank\" href=https://colab.research.google.com/notebooks/data_table.ipynb>data table notebook</a>'\n",
              "            + ' to learn more about interactive tables.';\n",
              "          element.innerHTML = '';\n",
              "          dataTable['output_type'] = 'display_data';\n",
              "          await google.colab.output.renderOutput(dataTable, element);\n",
              "          const docLink = document.createElement('div');\n",
              "          docLink.innerHTML = docLinkHtml;\n",
              "          element.appendChild(docLink);\n",
              "        }\n",
              "      </script>\n",
              "    </div>\n",
              "  </div>\n",
              "  "
            ]
          },
          "metadata": {},
          "execution_count": 7
        }
      ],
      "source": [
        "totalData = pd.read_csv('https://raw.githubusercontent.com/indicium15/sc1015-project/main/totalData.csv')\n",
        "totalData.drop(['Unnamed: 0'], inplace=True, axis=1)\n",
        "totalData.head()"
      ]
    },
    {
      "cell_type": "code",
      "execution_count": 8,
      "metadata": {
        "id": "o0YfgVeSzTfK"
      },
      "outputs": [],
      "source": [
        "# import preprocess_kgptalkie as ps\n",
        "# totalData['title'] = totalData['title'].apply(lambda x: ps.remove_special_chars(x))\n",
        "totalData = totalData[totalData['title'].notnull()]\n",
        "# totalData.head()\n",
        "y = totalData['class'].values\n",
        "x = [d.split() for d in totalData['title'].tolist()]\n",
        "\n",
        "# print(x.)\n",
        "# print(y)"
      ]
    },
    {
      "cell_type": "code",
      "execution_count": 9,
      "metadata": {
        "id": "Z9VoFoNqzTfL",
        "outputId": "bffe4f8b-a326-4e23-e162-b7297c616235",
        "colab": {
          "base_uri": "https://localhost:8080/"
        }
      },
      "outputs": [
        {
          "output_type": "execute_result",
          "data": {
            "text/plain": [
              "26133"
            ]
          },
          "metadata": {},
          "execution_count": 9
        }
      ],
      "source": [
        "## converting the words to vectors\n",
        "wordToVec = gensim.models.Word2Vec(sentences=x, size=100, window=10, min_count=1)\n",
        "len(wordToVec.wv.vocab)"
      ]
    },
    {
      "cell_type": "code",
      "execution_count": 10,
      "metadata": {
        "id": "vjoiTtQmzTfL"
      },
      "outputs": [],
      "source": [
        "tokenizer = Tokenizer()\n",
        "tokenizer.fit_on_texts(x)\n",
        "x = tokenizer.texts_to_sequences(x)"
      ]
    },
    {
      "cell_type": "code",
      "execution_count": 11,
      "metadata": {
        "id": "ygFMlyzuzTfL",
        "colab": {
          "base_uri": "https://localhost:8080/",
          "height": 1000
        },
        "outputId": "561ba8cd-f43b-4e03-8ee6-bbf1a2b90dd1"
      },
      "outputs": [
        {
          "output_type": "execute_result",
          "data": {
            "text/plain": [
              "(array([1.600e+01, 0.000e+00, 0.000e+00, 0.000e+00, 0.000e+00, 0.000e+00,\n",
              "        0.000e+00, 0.000e+00, 0.000e+00, 0.000e+00, 0.000e+00, 0.000e+00,\n",
              "        0.000e+00, 0.000e+00, 0.000e+00, 0.000e+00, 0.000e+00, 1.600e+01,\n",
              "        0.000e+00, 0.000e+00, 0.000e+00, 0.000e+00, 0.000e+00, 0.000e+00,\n",
              "        0.000e+00, 0.000e+00, 0.000e+00, 0.000e+00, 0.000e+00, 0.000e+00,\n",
              "        0.000e+00, 0.000e+00, 0.000e+00, 0.000e+00, 3.900e+01, 0.000e+00,\n",
              "        0.000e+00, 0.000e+00, 0.000e+00, 0.000e+00, 0.000e+00, 0.000e+00,\n",
              "        0.000e+00, 0.000e+00, 0.000e+00, 0.000e+00, 0.000e+00, 0.000e+00,\n",
              "        0.000e+00, 0.000e+00, 0.000e+00, 8.400e+01, 0.000e+00, 0.000e+00,\n",
              "        0.000e+00, 0.000e+00, 0.000e+00, 0.000e+00, 0.000e+00, 0.000e+00,\n",
              "        0.000e+00, 0.000e+00, 0.000e+00, 0.000e+00, 0.000e+00, 0.000e+00,\n",
              "        0.000e+00, 0.000e+00, 1.810e+02, 0.000e+00, 0.000e+00, 0.000e+00,\n",
              "        0.000e+00, 0.000e+00, 0.000e+00, 0.000e+00, 0.000e+00, 0.000e+00,\n",
              "        0.000e+00, 0.000e+00, 0.000e+00, 0.000e+00, 0.000e+00, 0.000e+00,\n",
              "        0.000e+00, 5.400e+02, 0.000e+00, 0.000e+00, 0.000e+00, 0.000e+00,\n",
              "        0.000e+00, 0.000e+00, 0.000e+00, 0.000e+00, 0.000e+00, 0.000e+00,\n",
              "        0.000e+00, 0.000e+00, 0.000e+00, 0.000e+00, 0.000e+00, 0.000e+00,\n",
              "        1.678e+03, 0.000e+00, 0.000e+00, 0.000e+00, 0.000e+00, 0.000e+00,\n",
              "        0.000e+00, 0.000e+00, 0.000e+00, 0.000e+00, 0.000e+00, 0.000e+00,\n",
              "        0.000e+00, 0.000e+00, 0.000e+00, 0.000e+00, 0.000e+00, 3.705e+03,\n",
              "        0.000e+00, 0.000e+00, 0.000e+00, 0.000e+00, 0.000e+00, 0.000e+00,\n",
              "        0.000e+00, 0.000e+00, 0.000e+00, 0.000e+00, 0.000e+00, 0.000e+00,\n",
              "        0.000e+00, 0.000e+00, 0.000e+00, 0.000e+00, 5.693e+03, 0.000e+00,\n",
              "        0.000e+00, 0.000e+00, 0.000e+00, 0.000e+00, 0.000e+00, 0.000e+00,\n",
              "        0.000e+00, 0.000e+00, 0.000e+00, 0.000e+00, 0.000e+00, 0.000e+00,\n",
              "        0.000e+00, 0.000e+00, 0.000e+00, 6.451e+03, 0.000e+00, 0.000e+00,\n",
              "        0.000e+00, 0.000e+00, 0.000e+00, 0.000e+00, 0.000e+00, 0.000e+00,\n",
              "        0.000e+00, 0.000e+00, 0.000e+00, 0.000e+00, 0.000e+00, 0.000e+00,\n",
              "        0.000e+00, 0.000e+00, 5.553e+03, 0.000e+00, 0.000e+00, 0.000e+00,\n",
              "        0.000e+00, 0.000e+00, 0.000e+00, 0.000e+00, 0.000e+00, 0.000e+00,\n",
              "        0.000e+00, 0.000e+00, 0.000e+00, 0.000e+00, 0.000e+00, 0.000e+00,\n",
              "        0.000e+00, 4.431e+03, 0.000e+00, 0.000e+00, 0.000e+00, 0.000e+00,\n",
              "        0.000e+00, 0.000e+00, 0.000e+00, 0.000e+00, 0.000e+00, 0.000e+00,\n",
              "        0.000e+00, 0.000e+00, 0.000e+00, 0.000e+00, 0.000e+00, 0.000e+00,\n",
              "        3.512e+03, 0.000e+00, 0.000e+00, 0.000e+00, 0.000e+00, 0.000e+00,\n",
              "        0.000e+00, 0.000e+00, 0.000e+00, 0.000e+00, 0.000e+00, 0.000e+00,\n",
              "        0.000e+00, 0.000e+00, 0.000e+00, 0.000e+00, 0.000e+00, 2.868e+03,\n",
              "        0.000e+00, 0.000e+00, 0.000e+00, 0.000e+00, 0.000e+00, 0.000e+00,\n",
              "        0.000e+00, 0.000e+00, 0.000e+00, 0.000e+00, 0.000e+00, 0.000e+00,\n",
              "        0.000e+00, 0.000e+00, 0.000e+00, 0.000e+00, 0.000e+00, 2.428e+03,\n",
              "        0.000e+00, 0.000e+00, 0.000e+00, 0.000e+00, 0.000e+00, 0.000e+00,\n",
              "        0.000e+00, 0.000e+00, 0.000e+00, 0.000e+00, 0.000e+00, 0.000e+00,\n",
              "        0.000e+00, 0.000e+00, 0.000e+00, 0.000e+00, 1.750e+03, 0.000e+00,\n",
              "        0.000e+00, 0.000e+00, 0.000e+00, 0.000e+00, 0.000e+00, 0.000e+00,\n",
              "        0.000e+00, 0.000e+00, 0.000e+00, 0.000e+00, 0.000e+00, 0.000e+00,\n",
              "        0.000e+00, 0.000e+00, 0.000e+00, 1.267e+03, 0.000e+00, 0.000e+00,\n",
              "        0.000e+00, 0.000e+00, 0.000e+00, 0.000e+00, 0.000e+00, 0.000e+00,\n",
              "        0.000e+00, 0.000e+00, 0.000e+00, 0.000e+00, 0.000e+00, 0.000e+00,\n",
              "        0.000e+00, 0.000e+00, 1.031e+03, 0.000e+00, 0.000e+00, 0.000e+00,\n",
              "        0.000e+00, 0.000e+00, 0.000e+00, 0.000e+00, 0.000e+00, 0.000e+00,\n",
              "        0.000e+00, 0.000e+00, 0.000e+00, 0.000e+00, 0.000e+00, 0.000e+00,\n",
              "        0.000e+00, 7.350e+02, 0.000e+00, 0.000e+00, 0.000e+00, 0.000e+00,\n",
              "        0.000e+00, 0.000e+00, 0.000e+00, 0.000e+00, 0.000e+00, 0.000e+00,\n",
              "        0.000e+00, 0.000e+00, 0.000e+00, 0.000e+00, 0.000e+00, 0.000e+00,\n",
              "        6.810e+02, 0.000e+00, 0.000e+00, 0.000e+00, 0.000e+00, 0.000e+00,\n",
              "        0.000e+00, 0.000e+00, 0.000e+00, 0.000e+00, 0.000e+00, 0.000e+00,\n",
              "        0.000e+00, 0.000e+00, 0.000e+00, 0.000e+00, 0.000e+00, 5.190e+02,\n",
              "        0.000e+00, 0.000e+00, 0.000e+00, 0.000e+00, 0.000e+00, 0.000e+00,\n",
              "        0.000e+00, 0.000e+00, 0.000e+00, 0.000e+00, 0.000e+00, 0.000e+00,\n",
              "        0.000e+00, 0.000e+00, 0.000e+00, 0.000e+00, 4.230e+02, 0.000e+00,\n",
              "        0.000e+00, 0.000e+00, 0.000e+00, 0.000e+00, 0.000e+00, 0.000e+00,\n",
              "        0.000e+00, 0.000e+00, 0.000e+00, 0.000e+00, 0.000e+00, 0.000e+00,\n",
              "        0.000e+00, 0.000e+00, 0.000e+00, 3.290e+02, 0.000e+00, 0.000e+00,\n",
              "        0.000e+00, 0.000e+00, 0.000e+00, 0.000e+00, 0.000e+00, 0.000e+00,\n",
              "        0.000e+00, 0.000e+00, 0.000e+00, 0.000e+00, 0.000e+00, 0.000e+00,\n",
              "        0.000e+00, 0.000e+00, 2.480e+02, 0.000e+00, 0.000e+00, 0.000e+00,\n",
              "        0.000e+00, 0.000e+00, 0.000e+00, 0.000e+00, 0.000e+00, 0.000e+00,\n",
              "        0.000e+00, 0.000e+00, 0.000e+00, 0.000e+00, 0.000e+00, 0.000e+00,\n",
              "        0.000e+00, 1.220e+02, 0.000e+00, 0.000e+00, 0.000e+00, 0.000e+00,\n",
              "        0.000e+00, 0.000e+00, 0.000e+00, 0.000e+00, 0.000e+00, 0.000e+00,\n",
              "        0.000e+00, 0.000e+00, 0.000e+00, 0.000e+00, 0.000e+00, 0.000e+00,\n",
              "        1.700e+02, 0.000e+00, 0.000e+00, 0.000e+00, 0.000e+00, 0.000e+00,\n",
              "        0.000e+00, 0.000e+00, 0.000e+00, 0.000e+00, 0.000e+00, 0.000e+00,\n",
              "        0.000e+00, 0.000e+00, 0.000e+00, 0.000e+00, 0.000e+00, 8.600e+01,\n",
              "        0.000e+00, 0.000e+00, 0.000e+00, 0.000e+00, 0.000e+00, 0.000e+00,\n",
              "        0.000e+00, 0.000e+00, 0.000e+00, 0.000e+00, 0.000e+00, 0.000e+00,\n",
              "        0.000e+00, 0.000e+00, 0.000e+00, 0.000e+00, 8.000e+01, 0.000e+00,\n",
              "        0.000e+00, 0.000e+00, 0.000e+00, 0.000e+00, 0.000e+00, 0.000e+00,\n",
              "        0.000e+00, 0.000e+00, 0.000e+00, 0.000e+00, 0.000e+00, 0.000e+00,\n",
              "        0.000e+00, 0.000e+00, 0.000e+00, 0.000e+00, 6.700e+01, 0.000e+00,\n",
              "        0.000e+00, 0.000e+00, 0.000e+00, 0.000e+00, 0.000e+00, 0.000e+00,\n",
              "        0.000e+00, 0.000e+00, 0.000e+00, 0.000e+00, 0.000e+00, 0.000e+00,\n",
              "        0.000e+00, 0.000e+00, 0.000e+00, 5.300e+01, 0.000e+00, 0.000e+00,\n",
              "        0.000e+00, 0.000e+00, 0.000e+00, 0.000e+00, 0.000e+00, 0.000e+00,\n",
              "        0.000e+00, 0.000e+00, 0.000e+00, 0.000e+00, 0.000e+00, 0.000e+00,\n",
              "        0.000e+00, 0.000e+00, 3.300e+01, 0.000e+00, 0.000e+00, 0.000e+00,\n",
              "        0.000e+00, 0.000e+00, 0.000e+00, 0.000e+00, 0.000e+00, 0.000e+00,\n",
              "        0.000e+00, 0.000e+00, 0.000e+00, 0.000e+00, 0.000e+00, 0.000e+00,\n",
              "        0.000e+00, 2.700e+01, 0.000e+00, 0.000e+00, 0.000e+00, 0.000e+00,\n",
              "        0.000e+00, 0.000e+00, 0.000e+00, 0.000e+00, 0.000e+00, 0.000e+00,\n",
              "        0.000e+00, 0.000e+00, 0.000e+00, 0.000e+00, 0.000e+00, 0.000e+00,\n",
              "        3.100e+01, 0.000e+00, 0.000e+00, 0.000e+00, 0.000e+00, 0.000e+00,\n",
              "        0.000e+00, 0.000e+00, 0.000e+00, 0.000e+00, 0.000e+00, 0.000e+00,\n",
              "        0.000e+00, 0.000e+00, 0.000e+00, 0.000e+00, 0.000e+00, 8.000e+00,\n",
              "        0.000e+00, 0.000e+00, 0.000e+00, 0.000e+00, 0.000e+00, 0.000e+00,\n",
              "        0.000e+00, 0.000e+00, 0.000e+00, 0.000e+00, 0.000e+00, 0.000e+00,\n",
              "        0.000e+00, 0.000e+00, 0.000e+00, 0.000e+00, 1.100e+01, 0.000e+00,\n",
              "        0.000e+00, 0.000e+00, 0.000e+00, 0.000e+00, 0.000e+00, 0.000e+00,\n",
              "        0.000e+00, 0.000e+00, 0.000e+00, 0.000e+00, 0.000e+00, 0.000e+00,\n",
              "        0.000e+00, 0.000e+00, 0.000e+00, 8.000e+00, 0.000e+00, 0.000e+00,\n",
              "        0.000e+00, 0.000e+00, 0.000e+00, 0.000e+00, 0.000e+00, 0.000e+00,\n",
              "        0.000e+00, 0.000e+00, 0.000e+00, 0.000e+00, 0.000e+00, 0.000e+00,\n",
              "        0.000e+00, 0.000e+00, 4.000e+00, 0.000e+00, 0.000e+00, 0.000e+00,\n",
              "        0.000e+00, 0.000e+00, 0.000e+00, 0.000e+00, 0.000e+00, 0.000e+00,\n",
              "        0.000e+00, 0.000e+00, 0.000e+00, 0.000e+00, 0.000e+00, 0.000e+00,\n",
              "        0.000e+00, 4.000e+00, 0.000e+00, 0.000e+00, 0.000e+00, 0.000e+00,\n",
              "        0.000e+00, 0.000e+00, 0.000e+00, 0.000e+00, 0.000e+00, 0.000e+00,\n",
              "        0.000e+00, 0.000e+00, 0.000e+00, 0.000e+00, 0.000e+00, 0.000e+00,\n",
              "        3.000e+00, 0.000e+00, 0.000e+00, 0.000e+00, 0.000e+00, 0.000e+00,\n",
              "        0.000e+00, 0.000e+00, 0.000e+00, 0.000e+00, 0.000e+00, 0.000e+00,\n",
              "        0.000e+00, 0.000e+00, 0.000e+00, 0.000e+00, 0.000e+00, 0.000e+00,\n",
              "        0.000e+00, 0.000e+00, 0.000e+00, 0.000e+00, 0.000e+00, 0.000e+00,\n",
              "        0.000e+00, 0.000e+00, 0.000e+00, 0.000e+00, 0.000e+00, 0.000e+00,\n",
              "        0.000e+00, 0.000e+00, 0.000e+00, 0.000e+00, 2.000e+00, 0.000e+00,\n",
              "        0.000e+00, 0.000e+00, 0.000e+00, 0.000e+00, 0.000e+00, 0.000e+00,\n",
              "        0.000e+00, 0.000e+00, 0.000e+00, 0.000e+00, 0.000e+00, 0.000e+00,\n",
              "        0.000e+00, 0.000e+00, 0.000e+00, 4.000e+00]),\n",
              " array([ 1.        ,  1.05857143,  1.11714286,  1.17571429,  1.23428571,\n",
              "         1.29285714,  1.35142857,  1.41      ,  1.46857143,  1.52714286,\n",
              "         1.58571429,  1.64428571,  1.70285714,  1.76142857,  1.82      ,\n",
              "         1.87857143,  1.93714286,  1.99571429,  2.05428571,  2.11285714,\n",
              "         2.17142857,  2.23      ,  2.28857143,  2.34714286,  2.40571429,\n",
              "         2.46428571,  2.52285714,  2.58142857,  2.64      ,  2.69857143,\n",
              "         2.75714286,  2.81571429,  2.87428571,  2.93285714,  2.99142857,\n",
              "         3.05      ,  3.10857143,  3.16714286,  3.22571429,  3.28428571,\n",
              "         3.34285714,  3.40142857,  3.46      ,  3.51857143,  3.57714286,\n",
              "         3.63571429,  3.69428571,  3.75285714,  3.81142857,  3.87      ,\n",
              "         3.92857143,  3.98714286,  4.04571429,  4.10428571,  4.16285714,\n",
              "         4.22142857,  4.28      ,  4.33857143,  4.39714286,  4.45571429,\n",
              "         4.51428571,  4.57285714,  4.63142857,  4.69      ,  4.74857143,\n",
              "         4.80714286,  4.86571429,  4.92428571,  4.98285714,  5.04142857,\n",
              "         5.1       ,  5.15857143,  5.21714286,  5.27571429,  5.33428571,\n",
              "         5.39285714,  5.45142857,  5.51      ,  5.56857143,  5.62714286,\n",
              "         5.68571429,  5.74428571,  5.80285714,  5.86142857,  5.92      ,\n",
              "         5.97857143,  6.03714286,  6.09571429,  6.15428571,  6.21285714,\n",
              "         6.27142857,  6.33      ,  6.38857143,  6.44714286,  6.50571429,\n",
              "         6.56428571,  6.62285714,  6.68142857,  6.74      ,  6.79857143,\n",
              "         6.85714286,  6.91571429,  6.97428571,  7.03285714,  7.09142857,\n",
              "         7.15      ,  7.20857143,  7.26714286,  7.32571429,  7.38428571,\n",
              "         7.44285714,  7.50142857,  7.56      ,  7.61857143,  7.67714286,\n",
              "         7.73571429,  7.79428571,  7.85285714,  7.91142857,  7.97      ,\n",
              "         8.02857143,  8.08714286,  8.14571429,  8.20428571,  8.26285714,\n",
              "         8.32142857,  8.38      ,  8.43857143,  8.49714286,  8.55571429,\n",
              "         8.61428571,  8.67285714,  8.73142857,  8.79      ,  8.84857143,\n",
              "         8.90714286,  8.96571429,  9.02428571,  9.08285714,  9.14142857,\n",
              "         9.2       ,  9.25857143,  9.31714286,  9.37571429,  9.43428571,\n",
              "         9.49285714,  9.55142857,  9.61      ,  9.66857143,  9.72714286,\n",
              "         9.78571429,  9.84428571,  9.90285714,  9.96142857, 10.02      ,\n",
              "        10.07857143, 10.13714286, 10.19571429, 10.25428571, 10.31285714,\n",
              "        10.37142857, 10.43      , 10.48857143, 10.54714286, 10.60571429,\n",
              "        10.66428571, 10.72285714, 10.78142857, 10.84      , 10.89857143,\n",
              "        10.95714286, 11.01571429, 11.07428571, 11.13285714, 11.19142857,\n",
              "        11.25      , 11.30857143, 11.36714286, 11.42571429, 11.48428571,\n",
              "        11.54285714, 11.60142857, 11.66      , 11.71857143, 11.77714286,\n",
              "        11.83571429, 11.89428571, 11.95285714, 12.01142857, 12.07      ,\n",
              "        12.12857143, 12.18714286, 12.24571429, 12.30428571, 12.36285714,\n",
              "        12.42142857, 12.48      , 12.53857143, 12.59714286, 12.65571429,\n",
              "        12.71428571, 12.77285714, 12.83142857, 12.89      , 12.94857143,\n",
              "        13.00714286, 13.06571429, 13.12428571, 13.18285714, 13.24142857,\n",
              "        13.3       , 13.35857143, 13.41714286, 13.47571429, 13.53428571,\n",
              "        13.59285714, 13.65142857, 13.71      , 13.76857143, 13.82714286,\n",
              "        13.88571429, 13.94428571, 14.00285714, 14.06142857, 14.12      ,\n",
              "        14.17857143, 14.23714286, 14.29571429, 14.35428571, 14.41285714,\n",
              "        14.47142857, 14.53      , 14.58857143, 14.64714286, 14.70571429,\n",
              "        14.76428571, 14.82285714, 14.88142857, 14.94      , 14.99857143,\n",
              "        15.05714286, 15.11571429, 15.17428571, 15.23285714, 15.29142857,\n",
              "        15.35      , 15.40857143, 15.46714286, 15.52571429, 15.58428571,\n",
              "        15.64285714, 15.70142857, 15.76      , 15.81857143, 15.87714286,\n",
              "        15.93571429, 15.99428571, 16.05285714, 16.11142857, 16.17      ,\n",
              "        16.22857143, 16.28714286, 16.34571429, 16.40428571, 16.46285714,\n",
              "        16.52142857, 16.58      , 16.63857143, 16.69714286, 16.75571429,\n",
              "        16.81428571, 16.87285714, 16.93142857, 16.99      , 17.04857143,\n",
              "        17.10714286, 17.16571429, 17.22428571, 17.28285714, 17.34142857,\n",
              "        17.4       , 17.45857143, 17.51714286, 17.57571429, 17.63428571,\n",
              "        17.69285714, 17.75142857, 17.81      , 17.86857143, 17.92714286,\n",
              "        17.98571429, 18.04428571, 18.10285714, 18.16142857, 18.22      ,\n",
              "        18.27857143, 18.33714286, 18.39571429, 18.45428571, 18.51285714,\n",
              "        18.57142857, 18.63      , 18.68857143, 18.74714286, 18.80571429,\n",
              "        18.86428571, 18.92285714, 18.98142857, 19.04      , 19.09857143,\n",
              "        19.15714286, 19.21571429, 19.27428571, 19.33285714, 19.39142857,\n",
              "        19.45      , 19.50857143, 19.56714286, 19.62571429, 19.68428571,\n",
              "        19.74285714, 19.80142857, 19.86      , 19.91857143, 19.97714286,\n",
              "        20.03571429, 20.09428571, 20.15285714, 20.21142857, 20.27      ,\n",
              "        20.32857143, 20.38714286, 20.44571429, 20.50428571, 20.56285714,\n",
              "        20.62142857, 20.68      , 20.73857143, 20.79714286, 20.85571429,\n",
              "        20.91428571, 20.97285714, 21.03142857, 21.09      , 21.14857143,\n",
              "        21.20714286, 21.26571429, 21.32428571, 21.38285714, 21.44142857,\n",
              "        21.5       , 21.55857143, 21.61714286, 21.67571429, 21.73428571,\n",
              "        21.79285714, 21.85142857, 21.91      , 21.96857143, 22.02714286,\n",
              "        22.08571429, 22.14428571, 22.20285714, 22.26142857, 22.32      ,\n",
              "        22.37857143, 22.43714286, 22.49571429, 22.55428571, 22.61285714,\n",
              "        22.67142857, 22.73      , 22.78857143, 22.84714286, 22.90571429,\n",
              "        22.96428571, 23.02285714, 23.08142857, 23.14      , 23.19857143,\n",
              "        23.25714286, 23.31571429, 23.37428571, 23.43285714, 23.49142857,\n",
              "        23.55      , 23.60857143, 23.66714286, 23.72571429, 23.78428571,\n",
              "        23.84285714, 23.90142857, 23.96      , 24.01857143, 24.07714286,\n",
              "        24.13571429, 24.19428571, 24.25285714, 24.31142857, 24.37      ,\n",
              "        24.42857143, 24.48714286, 24.54571429, 24.60428571, 24.66285714,\n",
              "        24.72142857, 24.78      , 24.83857143, 24.89714286, 24.95571429,\n",
              "        25.01428571, 25.07285714, 25.13142857, 25.19      , 25.24857143,\n",
              "        25.30714286, 25.36571429, 25.42428571, 25.48285714, 25.54142857,\n",
              "        25.6       , 25.65857143, 25.71714286, 25.77571429, 25.83428571,\n",
              "        25.89285714, 25.95142857, 26.01      , 26.06857143, 26.12714286,\n",
              "        26.18571429, 26.24428571, 26.30285714, 26.36142857, 26.42      ,\n",
              "        26.47857143, 26.53714286, 26.59571429, 26.65428571, 26.71285714,\n",
              "        26.77142857, 26.83      , 26.88857143, 26.94714286, 27.00571429,\n",
              "        27.06428571, 27.12285714, 27.18142857, 27.24      , 27.29857143,\n",
              "        27.35714286, 27.41571429, 27.47428571, 27.53285714, 27.59142857,\n",
              "        27.65      , 27.70857143, 27.76714286, 27.82571429, 27.88428571,\n",
              "        27.94285714, 28.00142857, 28.06      , 28.11857143, 28.17714286,\n",
              "        28.23571429, 28.29428571, 28.35285714, 28.41142857, 28.47      ,\n",
              "        28.52857143, 28.58714286, 28.64571429, 28.70428571, 28.76285714,\n",
              "        28.82142857, 28.88      , 28.93857143, 28.99714286, 29.05571429,\n",
              "        29.11428571, 29.17285714, 29.23142857, 29.29      , 29.34857143,\n",
              "        29.40714286, 29.46571429, 29.52428571, 29.58285714, 29.64142857,\n",
              "        29.7       , 29.75857143, 29.81714286, 29.87571429, 29.93428571,\n",
              "        29.99285714, 30.05142857, 30.11      , 30.16857143, 30.22714286,\n",
              "        30.28571429, 30.34428571, 30.40285714, 30.46142857, 30.52      ,\n",
              "        30.57857143, 30.63714286, 30.69571429, 30.75428571, 30.81285714,\n",
              "        30.87142857, 30.93      , 30.98857143, 31.04714286, 31.10571429,\n",
              "        31.16428571, 31.22285714, 31.28142857, 31.34      , 31.39857143,\n",
              "        31.45714286, 31.51571429, 31.57428571, 31.63285714, 31.69142857,\n",
              "        31.75      , 31.80857143, 31.86714286, 31.92571429, 31.98428571,\n",
              "        32.04285714, 32.10142857, 32.16      , 32.21857143, 32.27714286,\n",
              "        32.33571429, 32.39428571, 32.45285714, 32.51142857, 32.57      ,\n",
              "        32.62857143, 32.68714286, 32.74571429, 32.80428571, 32.86285714,\n",
              "        32.92142857, 32.98      , 33.03857143, 33.09714286, 33.15571429,\n",
              "        33.21428571, 33.27285714, 33.33142857, 33.39      , 33.44857143,\n",
              "        33.50714286, 33.56571429, 33.62428571, 33.68285714, 33.74142857,\n",
              "        33.8       , 33.85857143, 33.91714286, 33.97571429, 34.03428571,\n",
              "        34.09285714, 34.15142857, 34.21      , 34.26857143, 34.32714286,\n",
              "        34.38571429, 34.44428571, 34.50285714, 34.56142857, 34.62      ,\n",
              "        34.67857143, 34.73714286, 34.79571429, 34.85428571, 34.91285714,\n",
              "        34.97142857, 35.03      , 35.08857143, 35.14714286, 35.20571429,\n",
              "        35.26428571, 35.32285714, 35.38142857, 35.44      , 35.49857143,\n",
              "        35.55714286, 35.61571429, 35.67428571, 35.73285714, 35.79142857,\n",
              "        35.85      , 35.90857143, 35.96714286, 36.02571429, 36.08428571,\n",
              "        36.14285714, 36.20142857, 36.26      , 36.31857143, 36.37714286,\n",
              "        36.43571429, 36.49428571, 36.55285714, 36.61142857, 36.67      ,\n",
              "        36.72857143, 36.78714286, 36.84571429, 36.90428571, 36.96285714,\n",
              "        37.02142857, 37.08      , 37.13857143, 37.19714286, 37.25571429,\n",
              "        37.31428571, 37.37285714, 37.43142857, 37.49      , 37.54857143,\n",
              "        37.60714286, 37.66571429, 37.72428571, 37.78285714, 37.84142857,\n",
              "        37.9       , 37.95857143, 38.01714286, 38.07571429, 38.13428571,\n",
              "        38.19285714, 38.25142857, 38.31      , 38.36857143, 38.42714286,\n",
              "        38.48571429, 38.54428571, 38.60285714, 38.66142857, 38.72      ,\n",
              "        38.77857143, 38.83714286, 38.89571429, 38.95428571, 39.01285714,\n",
              "        39.07142857, 39.13      , 39.18857143, 39.24714286, 39.30571429,\n",
              "        39.36428571, 39.42285714, 39.48142857, 39.54      , 39.59857143,\n",
              "        39.65714286, 39.71571429, 39.77428571, 39.83285714, 39.89142857,\n",
              "        39.95      , 40.00857143, 40.06714286, 40.12571429, 40.18428571,\n",
              "        40.24285714, 40.30142857, 40.36      , 40.41857143, 40.47714286,\n",
              "        40.53571429, 40.59428571, 40.65285714, 40.71142857, 40.77      ,\n",
              "        40.82857143, 40.88714286, 40.94571429, 41.00428571, 41.06285714,\n",
              "        41.12142857, 41.18      , 41.23857143, 41.29714286, 41.35571429,\n",
              "        41.41428571, 41.47285714, 41.53142857, 41.59      , 41.64857143,\n",
              "        41.70714286, 41.76571429, 41.82428571, 41.88285714, 41.94142857,\n",
              "        42.        ]),\n",
              " <a list of 700 Patch objects>)"
            ]
          },
          "metadata": {},
          "execution_count": 11
        },
        {
          "output_type": "display_data",
          "data": {
            "text/plain": [
              "<Figure size 432x288 with 1 Axes>"
            ],
            "image/png": "[encoded data removed]"
          },
          "metadata": {
            "needs_background": "light"
          }
        }
      ],
      "source": [
        "plt.hist([len(y) for y in x], bins=700)"
      ]
    },
    {
      "cell_type": "code",
      "execution_count": 12,
      "metadata": {
        "id": "SF_vWvEBzTfM"
      },
      "outputs": [],
      "source": [
        "array = np.array([len(y) for y in x])\n",
        "maximumLength = 1000\n",
        "x = pad_sequences(x, maxlen=maximumLength)"
      ]
    },
    {
      "cell_type": "code",
      "execution_count": 13,
      "metadata": {
        "id": "eJwR6fR-zTfM"
      },
      "outputs": [],
      "source": [
        "sizeOfVocab = len(tokenizer.word_index) + 1\n",
        "totalVocab = tokenizer.word_index\n"
      ]
    },
    {
      "cell_type": "code",
      "execution_count": 14,
      "metadata": {
        "id": "KgsRXlhmzTfN"
      },
      "outputs": [],
      "source": [
        "def calculateMatrixWeight(model):\n",
        "    matrixWeight = np.zeros((sizeOfVocab, 100))\n",
        "    for word, index in totalVocab.items():\n",
        "        matrixWeight[index]=model.wv[word]\n",
        "    return matrixWeight"
      ]
    },
    {
      "cell_type": "code",
      "execution_count": 15,
      "metadata": {
        "id": "ibO8KYx3zTfN",
        "colab": {
          "base_uri": "https://localhost:8080/"
        },
        "outputId": "f0b0c9b0-0c4c-49ee-d6fa-d92cbc4ab1b0"
      },
      "outputs": [
        {
          "output_type": "execute_result",
          "data": {
            "text/plain": [
              "(26134, 100)"
            ]
          },
          "metadata": {},
          "execution_count": 15
        }
      ],
      "source": [
        "vectorsToEmbed = calculateMatrixWeight(wordToVec)\n",
        "vectorsToEmbed.shape"
      ]
    },
    {
      "cell_type": "code",
      "execution_count": 16,
      "metadata": {
        "id": "UrObHDFszTfO"
      },
      "outputs": [],
      "source": [
        "totalModel = Sequential()\n",
        "totalModel.add(Embedding(sizeOfVocab, output_dim=100, weights=[vectorsToEmbed], input_length=maximumLength, trainable=False))\n",
        "totalModel.add(LSTM(units=128))\n",
        "totalModel.add(Dense(1, activation='sigmoid'))\n",
        "totalModel.compile(optimizer='adam', loss='binary_crossentropy', metrics=['acc'])"
      ]
    },
    {
      "cell_type": "code",
      "execution_count": 17,
      "metadata": {
        "id": "HUCGeLI5zTfO",
        "colab": {
          "base_uri": "https://localhost:8080/"
        },
        "outputId": "2552b26e-cc34-46e4-c1d8-7e3eb60d7da6"
      },
      "outputs": [
        {
          "output_type": "stream",
          "name": "stdout",
          "text": [
            "Requirement already satisfied: keras in /usr/local/lib/python3.7/dist-packages (2.8.0)\n"
          ]
        }
      ],
      "source": [
        "%pip install keras\n"
      ]
    },
    {
      "cell_type": "code",
      "execution_count": 18,
      "metadata": {
        "id": "vYySxuXHzTfP",
        "colab": {
          "base_uri": "https://localhost:8080/"
        },
        "outputId": "46dba574-990c-4cee-b7e2-98d8ffa40d49"
      },
      "outputs": [
        {
          "output_type": "stream",
          "name": "stdout",
          "text": [
            "Model: \"sequential\"\n",
            "_________________________________________________________________\n",
            " Layer (type)                Output Shape              Param #   \n",
            "=================================================================\n",
            " embedding (Embedding)       (None, 1000, 100)         2613400   \n",
            "                                                                 \n",
            " lstm (LSTM)                 (None, 128)               117248    \n",
            "                                                                 \n",
            " dense (Dense)               (None, 1)                 129       \n",
            "                                                                 \n",
            "=================================================================\n",
            "Total params: 2,730,777\n",
            "Trainable params: 117,377\n",
            "Non-trainable params: 2,613,400\n",
            "_________________________________________________________________\n"
          ]
        }
      ],
      "source": [
        "totalModel.summary()"
      ]
    },
    {
      "cell_type": "code",
      "execution_count": 19,
      "metadata": {
        "id": "GIypanFlzTfP",
        "colab": {
          "base_uri": "https://localhost:8080/"
        },
        "outputId": "545c022c-9af9-43bc-d98b-b53f71766317"
      },
      "outputs": [
        {
          "output_type": "stream",
          "name": "stdout",
          "text": [
            "Epoch 1/6\n",
            "737/737 [==============================] - 133s 170ms/step - loss: 0.2679 - acc: 0.8873 - val_loss: 0.2542 - val_acc: 0.8968\n",
            "Epoch 2/6\n",
            "737/737 [==============================] - 123s 166ms/step - loss: 0.2272 - acc: 0.9062 - val_loss: 0.2129 - val_acc: 0.9140\n",
            "Epoch 3/6\n",
            "737/737 [==============================] - 123s 167ms/step - loss: 0.2098 - acc: 0.9140 - val_loss: 0.2015 - val_acc: 0.9204\n",
            "Epoch 4/6\n",
            "737/737 [==============================] - 123s 166ms/step - loss: 0.2026 - acc: 0.9165 - val_loss: 0.1955 - val_acc: 0.9193\n",
            "Epoch 5/6\n",
            "737/737 [==============================] - 123s 167ms/step - loss: 0.1901 - acc: 0.9224 - val_loss: 0.1894 - val_acc: 0.9252\n",
            "Epoch 6/6\n",
            "737/737 [==============================] - 122s 166ms/step - loss: 0.1820 - acc: 0.9271 - val_loss: 0.2031 - val_acc: 0.9213\n"
          ]
        },
        {
          "output_type": "execute_result",
          "data": {
            "text/plain": [
              "<keras.callbacks.History at 0x7fb88652b790>"
            ]
          },
          "metadata": {},
          "execution_count": 19
        }
      ],
      "source": [
        "x_train, x_test, y_train, y_test = train_test_split(x,y)\n",
        "totalModel.fit(x_train,y_train, validation_split=0.3, epochs=6)\n",
        "# print(y.shape)\n",
        "# print(x.shape)"
      ]
    },
    {
      "cell_type": "code",
      "execution_count": 20,
      "metadata": {
        "id": "q_wjGeJKzTfP",
        "colab": {
          "base_uri": "https://localhost:8080/"
        },
        "outputId": "b2a10104-bfc1-4639-861f-31fb0cb9d49c"
      },
      "outputs": [
        {
          "output_type": "stream",
          "name": "stdout",
          "text": [
            "The accuracy for test: 0.9249754967477501\n"
          ]
        }
      ],
      "source": [
        "y_pred_train = (totalModel.predict(x_train) >= 0.5).astype(int)\n",
        "y_pred_test = (totalModel.predict(x_test) >= 0.5).astype(int)\n",
        "print('The accuracy for test: {}'.format(accuracy_score(y_test, y_pred_test)))"
      ]
    },
    {
      "cell_type": "markdown",
      "source": [
        "The first evaluation we can do is seeing the confusion matrix from our train and test data, and looking at the preciseness of the model through metrics like accuracy, precision, recall, specificity, and F-Score."
      ],
      "metadata": {
        "id": "tELEqcMslabs"
      }
    },
    {
      "cell_type": "code",
      "execution_count": 21,
      "metadata": {
        "id": "im9DEAeTzTfQ",
        "colab": {
          "base_uri": "https://localhost:8080/",
          "height": 455
        },
        "outputId": "20d76c92-8e1d-4157-ca50-7b9535d29507"
      },
      "outputs": [
        {
          "output_type": "stream",
          "name": "stdout",
          "text": [
            "Test Data\n",
            "Accuracy: 92.50%\n",
            "Precision: 91.50%\n",
            "Recall: 94.48%\n",
            "Specificity: 90.30%\n",
            "F-Score:  0.9296809754468013\n"
          ]
        },
        {
          "output_type": "display_data",
          "data": {
            "text/plain": [
              "<Figure size 1440x576 with 4 Axes>"
            ],
            "image/png": "[encoded data removed]"
          },
          "metadata": {
            "needs_background": "light"
          }
        }
      ],
      "source": [
        "f, axes = plt.subplots(1, 2, figsize=(20, 8))\n",
        "\n",
        "from sklearn.metrics import confusion_matrix\n",
        "train = sb.heatmap(confusion_matrix(y_train, y_pred_train), \n",
        "           annot = True, fmt=\".0f\", annot_kws={\"size\": 18}, ax=axes[0])\n",
        "train.set( xlabel = \"Train Data\")\n",
        "\n",
        "\n",
        "test = sb.heatmap(confusion_matrix(y_test, y_pred_test), \n",
        "           annot = True, fmt=\".0f\", annot_kws={\"size\": 18}, ax=axes[1])\n",
        "test.set(xlabel=\"Test Data\")\n",
        "\n",
        "test_confusion_matrix = confusion_matrix(y_test, y_pred_test)\n",
        "test_accuracy = (test_confusion_matrix[0][0] + test_confusion_matrix[1][1])/(test_confusion_matrix[0][0]+test_confusion_matrix[0][1]+test_confusion_matrix[1][0]+test_confusion_matrix[1][1])\n",
        "test_precision = (test_confusion_matrix[0][0])/(test_confusion_matrix[0][0]+test_confusion_matrix[1][0])\n",
        "test_recall = (test_confusion_matrix[0][0])/(test_confusion_matrix[0][0]+test_confusion_matrix[0][1])\n",
        "test_specificity = (test_confusion_matrix[1][1])/(test_confusion_matrix[1][1]+test_confusion_matrix[1][0])\n",
        "test_f_score = (2*test_precision*test_recall)/(test_precision+test_recall)\n",
        "print(\"Test Data\")\n",
        "print(\"Accuracy: {:.2%}\".format(test_accuracy))\n",
        "#Precision - how much the model is right when it says that it is right\n",
        "print(\"Precision: {:.2%}\".format(test_precision))\n",
        "#Recall - how many extra right ones did the model miss when we said it was right?\n",
        "print(\"Recall: {:.2%}\".format(test_recall))\n",
        "#Specificity - negative instances out of the total negative instances\n",
        "print(\"Specificity: {:.2%}\".format(test_specificity))\n",
        "#F-Score - higher the better. Means that model positive predictions are actually positive and negative predictions are actually negative\n",
        "print(\"F-Score: \",test_f_score)\n",
        "\n"
      ]
    },
    {
      "cell_type": "markdown",
      "source": [
        "We can also use our model to plot a ROC Curve, which shows us the true positive rate of our model with respect to the false positive rate. As you can see, our model is in the top left region of the curve, meaning that we are achieving a good true positive rate with a low false positive rate."
      ],
      "metadata": {
        "id": "sQazDHOIlqlr"
      }
    },
    {
      "cell_type": "code",
      "source": [
        "from sklearn.metrics import roc_curve\n",
        "from sklearn.metrics import roc_auc_score\n",
        "import matplotlib.pyplot as plt\n",
        "\n",
        "fpr1, tpr1, thresh1 = roc_curve(y_test, y_pred_test, pos_label=1)\n",
        "random_probs = [0 for i in range(len(y_test))]\n",
        "p_fpr, p_tpr, _ = roc_curve(y_test, random_probs, pos_label=1)\n",
        "auc_score1 = roc_auc_score(y_test, y_pred_test)\n",
        "\n",
        "#print(\"False Positive Rate: \",fpr1)\n",
        "#print(\"True Positive Rate: \",tpr1)\n",
        "#print(\"Threshold Values: \",thresh1)\n",
        "\n",
        "plt.style.use('seaborn')\n",
        "# plot roc curves\n",
        "plt.plot(fpr1, tpr1, linestyle='--',color='orange', label='LTSM')\n",
        "plt.plot(p_fpr, p_tpr, linestyle='--', color='blue')\n",
        "# title\n",
        "plt.title('ROC Curve')\n",
        "# x label\n",
        "plt.xlabel('False Positive Rate')\n",
        "# y label\n",
        "plt.ylabel('True Positive rate')\n",
        "\n",
        "plt.legend(loc='best')\n",
        "plt.savefig('ROC',dpi=300)\n",
        "plt.show();\n",
        "\n"
      ],
      "metadata": {
        "colab": {
          "base_uri": "https://localhost:8080/",
          "height": 376
        },
        "id": "w1eZPAT9AS3b",
        "outputId": "ffb955d2-bbc9-460a-ecbb-7bc1de485c28"
      },
      "execution_count": 23,
      "outputs": [
        {
          "output_type": "display_data",
          "data": {
            "text/plain": [
              "<Figure size 576x396 with 1 Axes>"
            ],
            "image/png": "[encoded data removed]"
          },
          "metadata": {}
        }
      ]
    },
    {
      "cell_type": "markdown",
      "source": [
        "Here we are saving the model for future use so that we do not need to compile the model every time we wish to run evaluation calculations. The resuling file is model.h5 stored in the repository."
      ],
      "metadata": {
        "id": "DxVD4oM_zyXC"
      }
    },
    {
      "cell_type": "code",
      "source": [
        "from keras.models import load_model\n",
        "totalModel.save('model.h5')\n",
        "print(\"saved model to disk\")"
      ],
      "metadata": {
        "colab": {
          "base_uri": "https://localhost:8080/"
        },
        "id": "hjEZD0X24OKm",
        "outputId": "f2eff18b-69f6-4bdf-8b68-997809bfe5b7"
      },
      "execution_count": 24,
      "outputs": [
        {
          "output_type": "stream",
          "name": "stdout",
          "text": [
            "saved model to disk\n"
          ]
        }
      ]
    },
    {
      "cell_type": "code",
      "source": [
        "totalModel2 = load_model('model.h5')\n",
        "totalModel2.summary() #Test to see if the model values are the same"
      ],
      "metadata": {
        "colab": {
          "base_uri": "https://localhost:8080/"
        },
        "id": "G-W1Owac5ZYt",
        "outputId": "9fe497ae-70d5-48fe-c90c-55387c3e6bd0"
      },
      "execution_count": 25,
      "outputs": [
        {
          "output_type": "stream",
          "name": "stdout",
          "text": [
            "Model: \"sequential\"\n",
            "_________________________________________________________________\n",
            " Layer (type)                Output Shape              Param #   \n",
            "=================================================================\n",
            " embedding (Embedding)       (None, 1000, 100)         2613400   \n",
            "                                                                 \n",
            " lstm (LSTM)                 (None, 128)               117248    \n",
            "                                                                 \n",
            " dense (Dense)               (None, 1)                 129       \n",
            "                                                                 \n",
            "=================================================================\n",
            "Total params: 2,730,777\n",
            "Trainable params: 117,377\n",
            "Non-trainable params: 2,613,400\n",
            "_________________________________________________________________\n"
          ]
        }
      ]
    },
    {
      "cell_type": "markdown",
      "source": [
        "Now we will run the model through blind data from the Onion Dataset. In this instance, we are isolating the headlines of articles from the Onion and running it through the model.\n",
        "\n",
        "We know that all the headlines are fake news, so we can claculate the total accuracy of the model based on the number of false predictions it makes over the number of total predictions.\n",
        "\n",
        "Finally, we also save the wrongly classified headlines in a txt file so we can carry out further analysis on them."
      ],
      "metadata": {
        "id": "maHyl-0iyoHf"
      }
    },
    {
      "cell_type": "code",
      "source": [
        "blinddata = pd.read_csv('https://raw.githubusercontent.com/indicium15/sc1015-project/main/OnionOrNot.csv')\n",
        "blinddata.head()\n",
        "onion_articles = pd.DataFrame(blinddata[blinddata.label.eq(1)])\n",
        "del onion_articles['label']\n",
        "onion_articles.head()\n",
        "true = 0\n",
        "false_positives = []\n",
        "false = 0\n",
        "for index, row in onion_articles.iterrows():\n",
        "  x = row['text']\n",
        "  #print(x)\n",
        "  x = tokenizer.texts_to_sequences(x)\n",
        "  x = pad_sequences(x, maxlen=maximumLength)\n",
        "  comp = (totalModel2.predict(x)>=0.5).astype(int)[0][0]\n",
        "  if(comp==0):\n",
        "    #print(\"Fake\")\n",
        "    false+=1\n",
        "  else:\n",
        "    #print(\"True\")\n",
        "    true+=1\n",
        "    false_positives.append(row['text'])\n",
        "\n",
        "\n",
        "print(\"Predicted Fake: \", false)\n",
        "print(\"Predicted True: \", true)\n",
        "print(\"Percentage Accuracy: {:.2%}\".format(false/(false+true)))"
      ],
      "metadata": {
        "colab": {
          "base_uri": "https://localhost:8080/"
        },
        "id": "0RUgfkO56NAD",
        "outputId": "c5a73c21-49d0-41eb-9c20-8d72bd172d75"
      },
      "execution_count": 26,
      "outputs": [
        {
          "output_type": "stream",
          "name": "stdout",
          "text": [
            "Predicted Fake:  8075\n",
            "Predicted True:  925\n",
            "Percentage Accuracy: 89.72%\n"
          ]
        }
      ]
    },
    {
      "cell_type": "code",
      "source": [
        "#Save to a txt for easier reference in the future!\n",
        "with open('falsepositives.txt', 'w') as f:\n",
        "    for item in false_positives:\n",
        "        f.write(\"%s\\n\" % item)"
      ],
      "metadata": {
        "id": "KtOqTbvNT3dE"
      },
      "execution_count": 27,
      "outputs": []
    },
    {
      "cell_type": "markdown",
      "source": [
        "We can see that those articles which have a factual tone and do not use overly negative language tend to be classified as true news.\n",
        "\n",
        "We can run our model through the other set of data in the Onion Dataset, which consists of news headlines which sound like fake news / satire but are not."
      ],
      "metadata": {
        "id": "_ztF1yIHiDF0"
      }
    },
    {
      "cell_type": "code",
      "source": [
        "blinddata = pd.read_csv('https://raw.githubusercontent.com/indicium15/sc1015-project/main/OnionOrNot.csv')\n",
        "blinddata.head()\n",
        "normal_articles = pd.DataFrame(blinddata[blinddata.label.eq(0)])\n",
        "del normal_articles['label']\n",
        "normal_articles.head()\n",
        "true2 = 0\n",
        "false_negatives = []\n",
        "false2 = 0\n",
        "count = 0\n",
        "for index, row in normal_articles.iterrows():\n",
        "    x = row['text']\n",
        "    #print(x)\n",
        "    x = tokenizer.texts_to_sequences(x)\n",
        "    x = pad_sequences(x, maxlen=maximumLength)\n",
        "    comp = (totalModel2.predict(x)>=0.5).astype(int)[0][0]\n",
        "    if(comp==0):\n",
        "      #print(\"Fake\")\n",
        "      false2+=1\n",
        "      false_negatives.append(row['text'])\n",
        "    else:\n",
        "      #print(\"True\")\n",
        "      true2+=1"
      ],
      "metadata": {
        "id": "ywsdvBxdiPAG"
      },
      "execution_count": 28,
      "outputs": []
    },
    {
      "cell_type": "markdown",
      "source": [
        "Similar to the previous line of code, we can calculate the percentage accuracy of the model and output the wrongly classified headlines into a .txt file to further analyse."
      ],
      "metadata": {
        "id": "0fDcWkqV22Af"
      }
    },
    {
      "cell_type": "code",
      "source": [
        "print(\"Predicted Fake: \",false2)\n",
        "print(\"Predicted True: \",true2)\n",
        "print(\"Percentage Accuracy: {:.2%}\\n\".format(true2/(true2+false2)))\n",
        "print(\"Examples of False Negatives: \")\n",
        "for i in range(0,15):\n",
        "  print(false_negatives[i])\n",
        "  with open('falsenegatives.txt', 'w') as f:\n",
        "    for item in false_negatives:\n",
        "        f.write(\"%s\\n\" % item)\n"
      ],
      "metadata": {
        "colab": {
          "base_uri": "https://localhost:8080/"
        },
        "id": "wTPZCFVWiq7z",
        "outputId": "8a60b24a-d592-46ae-aae9-341c31447859"
      },
      "execution_count": 29,
      "outputs": [
        {
          "output_type": "stream",
          "name": "stdout",
          "text": [
            "Predicted Fake:  14251\n",
            "Predicted True:  749\n",
            "Percentage Accuracy: 4.99%\n",
            "\n",
            "Examples of False Negatives: \n",
            "Muslim Woman Denied Soda Can for Fear She Could Use It as a Weapon\n",
            "Omaha dad finds pot brownies, eats 4 of them, says mean things to cat\n",
            "Pokémon Go player stabbed, keeps playing\n",
            "Woman's rejected \"8theist\" license plate violates First Amendment\n",
            "Man Tries to Rob a Bank After Paying $500 to a Wizard to Make Him Invisible\n",
            "Ohio parents sue their olympic gold medalist daughter for telling stories that cast them in a bad light... so everyone knows that they are not selfish, don't bully her and haven't cheated her financially.  \n",
            "Match-predicting koala sacked for poor results\n",
            "Court: 93-Year-Old Kills Wife Of 70 Years Because ‘He Couldn’t Take It Anymore’\n",
            "Deputies ask man to quit calling about his stolen marijuana\n",
            "Lyrics to Carly Rae Jepsen's next single to be crowdsourced via online poll\n",
            "Meat company bans animal testing, confuses everybody\n",
            "PTSD veterans 'cured' with ecstasy treatment in weeks, say scientists\n",
            "Cyclist’s Bike Stolen at Police Station while Reporting iPhone Theft\n",
            "Pagan priest wins right to wear horns in driver’s license photo\n",
            "Author Of Patriot Act: NSA Phone Tracking ‘Excessive And Un-American’\n"
          ]
        }
      ]
    },
    {
      "cell_type": "markdown",
      "source": [
        "Some interesting findings - our model seems to be better at classifying fake news headlines compared to real news headlines. In order to solidify this hypothesis, we can run this model through another similar set of true and fake news data and see if the outcomes are the same."
      ],
      "metadata": {
        "id": "Jf0nPj4d2-84"
      }
    },
    {
      "cell_type": "code",
      "source": [
        "buzzfeed_real = open('buzzfeed_merged_real.txt','r')\n",
        "lines = buzzfeed_real.readlines()\n",
        "buzz_false = 0\n",
        "buzz_true = 0\n",
        "buzz_false_negatives = []\n",
        "\n",
        "for line in lines:\n",
        "  #print(line)\n",
        "  x = line\n",
        "  x = tokenizer.texts_to_sequences(x)\n",
        "  x = pad_sequences(x, maxlen=maximumLength)\n",
        "  comp = (totalModel2.predict(x)>=0.5).astype(int)[0][0]\n",
        "  if(comp==0):\n",
        "    #print(\"Fake\")\n",
        "    buzz_false +=1\n",
        "    buzz_false_negatives.append(line)\n",
        "    #print(buzz_false_negatives)\n",
        "  else:\n",
        "    #print(\"True\")\n",
        "    buzz_true +=1\n",
        "\n",
        "\n",
        "print(\"Predicted False: \",buzz_false)\n",
        "print(\"Predicted True: \",buzz_true)\n",
        "print(\"Accuracy: {:.2%}\\n\".format(buzz_true/(buzz_false + buzz_true)))\n",
        "\n",
        "with open('buzzfeed_false_negatives.txt', 'w') as f:\n",
        "    for item in buzz_false_negatives:\n",
        "        f.write(\"%s\\n\" % item)"
      ],
      "metadata": {
        "colab": {
          "base_uri": "https://localhost:8080/"
        },
        "id": "jFanUlSgk3TJ",
        "outputId": "a99582fe-b25b-4238-fa17-e6af64e9920b"
      },
      "execution_count": 31,
      "outputs": [
        {
          "output_type": "stream",
          "name": "stdout",
          "text": [
            "Predicted False:  52\n",
            "Predicted True:  1\n",
            "Accuracy: 1.89%\n",
            "\n"
          ]
        }
      ]
    },
    {
      "cell_type": "code",
      "source": [
        "buzzfeed_fake = open('buzzfeed_merged_fake.txt','r',encoding='cp1252')\n",
        "lines = buzzfeed_fake.readlines()\n",
        "buzz2_false = 0\n",
        "buzz2_true = 0\n",
        "buzz2_false_positives = []\n",
        "\n",
        "for line in lines:\n",
        "  #print(line)\n",
        "  x = line\n",
        "  x = tokenizer.texts_to_sequences(x)\n",
        "  x = pad_sequences(x, maxlen=maximumLength)\n",
        "  comp = (totalModel2.predict(x)>=0.5).astype(int)[0][0]\n",
        "  if(comp==0):\n",
        "    #print(\"Fake\")\n",
        "    buzz2_false +=1\n",
        "  else:\n",
        "    #print(\"True\")\n",
        "    buzz2_true +=1\n",
        "    buzz2_false_positives.append(line)\n",
        "\n",
        "print(\"Predicted False: \",buzz2_false)\n",
        "print(\"Predicted True: \",buzz2_true)\n",
        "print(\"Percentage Accuracy: {:.2%}\\n\".format(buzz2_false/(buzz2_false + buzz2_true)))\n",
        "\n",
        "with open('buzzfeed_false_positives.txt', 'w') as f:\n",
        "    for item in buzz2_false_positives:\n",
        "        f.write(\"%s\\n\" % item)"
      ],
      "metadata": {
        "colab": {
          "base_uri": "https://localhost:8080/"
        },
        "id": "d1_v7Ee_zcza",
        "outputId": "d8258387-0be8-460a-de12-e72e01b14647"
      },
      "execution_count": 33,
      "outputs": [
        {
          "output_type": "stream",
          "name": "stdout",
          "text": [
            "Predicted False:  48\n",
            "Predicted True:  0\n",
            "Percentage Accuracy: 100.00%\n",
            "\n"
          ]
        }
      ]
    },
    {
      "cell_type": "code",
      "source": [
        "abcdata = pd.read_csv('https://raw.githubusercontent.com/indicium15/sc1015-project/main/abcnews-date-text.csv')\n",
        "abcdata.head()\n",
        "del abcdata['publish_date']\n",
        "abcdata.head()\n",
        "count = 0\n",
        "abctrue = 0\n",
        "abc_false_negatives = []\n",
        "abcfalse = 0\n",
        "for index, row in abcdata.iterrows():\n",
        "  if(index < 1000):\n",
        "    x = row['headline_text']\n",
        "    #print(x)\n",
        "    x = tokenizer.texts_to_sequences(x)\n",
        "    x = pad_sequences(x, maxlen=maximumLength)\n",
        "    comp = (totalModel2.predict(x)>=0.5).astype(int)[0][0]\n",
        "    if(comp==0):\n",
        "      #print(\"Fake\")\n",
        "      abcfalse+=1\n",
        "      abc_false_negatives.append(row['headline_text'])\n",
        "    else:\n",
        "      #print(\"True\")\n",
        "      abctrue+=1 \n",
        "  else:\n",
        "    break\n",
        "\n",
        "print(\"Predicted Fake: \", abcfalse)\n",
        "print(\"Predicted True: \", abctrue)\n",
        "print(\"Percentage Accuracy: {:.2%}\\n\".format(abctrue/(abcfalse+abctrue)))\n",
        "\n",
        "with open('abc_false_negatives.txt', 'w') as f:\n",
        "    for item in abc_false_negatives:\n",
        "        f.write(\"%s\\n\" % item)\n",
        "\n"
      ],
      "metadata": {
        "colab": {
          "base_uri": "https://localhost:8080/"
        },
        "id": "n4WthjzH_xPZ",
        "outputId": "1c8485da-7b61-4032-aea7-73ac63b9ceb0"
      },
      "execution_count": 36,
      "outputs": [
        {
          "output_type": "stream",
          "name": "stdout",
          "text": [
            "Predicted Fake:  953\n",
            "Predicted True:  47\n",
            "Percentage Accuracy: 4.70%\n",
            "\n"
          ]
        }
      ]
    }
  ],
  "metadata": {
    "interpreter": {
      "hash": "08fa0a2ff23b6fb6dcf976fe22032a5a31e526f812991b05bea1edd95204f3f9"
    },
    "kernelspec": {
      "display_name": "Python 3 (ipykernel)",
      "language": "python",
      "name": "python3"
    },
    "language_info": {
      "codemirror_mode": {
        "name": "ipython",
        "version": 3
      },
      "file_extension": ".py",
      "mimetype": "text/x-python",
      "name": "python",
      "nbconvert_exporter": "python",
      "pygments_lexer": "ipython3",
      "version": "3.7.11"
    },
    "colab": {
      "name": "EvaluatingModel.ipynb",
      "provenance": []
    },
    "accelerator": "GPU"
  },
  "nbformat": 4,
  "nbformat_minor": 0
}