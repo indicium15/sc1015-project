{
 "cells": [
  {
   "cell_type": "code",
   "execution_count": 13,
   "id": "c1aa27d6",
   "metadata": {},
   "outputs": [],
   "source": [
    "# Basic Libraries\n",
    "import numpy as np\n",
    "import pandas as pd\n",
    "import seaborn as sb"
   ]
  },
  {
   "cell_type": "code",
   "execution_count": 14,
   "id": "76e9b21d",
   "metadata": {},
   "outputs": [
    {
     "data": {
      "text/html": [
       "<div>\n",
       "<style scoped>\n",
       "    .dataframe tbody tr th:only-of-type {\n",
       "        vertical-align: middle;\n",
       "    }\n",
       "\n",
       "    .dataframe tbody tr th {\n",
       "        vertical-align: top;\n",
       "    }\n",
       "\n",
       "    .dataframe thead th {\n",
       "        text-align: right;\n",
       "    }\n",
       "</style>\n",
       "<table border=\"1\" class=\"dataframe\">\n",
       "  <thead>\n",
       "    <tr style=\"text-align: right;\">\n",
       "      <th></th>\n",
       "      <th>title</th>\n",
       "    </tr>\n",
       "  </thead>\n",
       "  <tbody>\n",
       "    <tr>\n",
       "      <th>0</th>\n",
       "      <td>As U.S. budget fight looms, Republicans flip t...</td>\n",
       "    </tr>\n",
       "    <tr>\n",
       "      <th>1</th>\n",
       "      <td>U.S. military to accept transgender recruits o...</td>\n",
       "    </tr>\n",
       "    <tr>\n",
       "      <th>2</th>\n",
       "      <td>Senior U.S. Republican senator: 'Let Mr. Muell...</td>\n",
       "    </tr>\n",
       "    <tr>\n",
       "      <th>3</th>\n",
       "      <td>FBI Russia probe helped by Australian diplomat...</td>\n",
       "    </tr>\n",
       "    <tr>\n",
       "      <th>4</th>\n",
       "      <td>Trump wants Postal Service to charge 'much mor...</td>\n",
       "    </tr>\n",
       "  </tbody>\n",
       "</table>\n",
       "</div>"
      ],
      "text/plain": [
       "                                               title\n",
       "0  As U.S. budget fight looms, Republicans flip t...\n",
       "1  U.S. military to accept transgender recruits o...\n",
       "2  Senior U.S. Republican senator: 'Let Mr. Muell...\n",
       "3  FBI Russia probe helped by Australian diplomat...\n",
       "4  Trump wants Postal Service to charge 'much mor..."
      ]
     },
     "execution_count": 14,
     "metadata": {},
     "output_type": "execute_result"
    }
   ],
   "source": [
    "true = pd.read_csv('True.csv')\n",
    "trueData = pd.DataFrame(true)\n",
    "to_drop= ['text','subject','date']\n",
    "trueData.drop(to_drop, inplace=True, axis=1)\n",
    "trueData.head()"
   ]
  },
  {
   "cell_type": "code",
   "execution_count": 15,
   "id": "9ac640f7",
   "metadata": {},
   "outputs": [
    {
     "data": {
      "text/html": [
       "<div>\n",
       "<style scoped>\n",
       "    .dataframe tbody tr th:only-of-type {\n",
       "        vertical-align: middle;\n",
       "    }\n",
       "\n",
       "    .dataframe tbody tr th {\n",
       "        vertical-align: top;\n",
       "    }\n",
       "\n",
       "    .dataframe thead th {\n",
       "        text-align: right;\n",
       "    }\n",
       "</style>\n",
       "<table border=\"1\" class=\"dataframe\">\n",
       "  <thead>\n",
       "    <tr style=\"text-align: right;\">\n",
       "      <th></th>\n",
       "      <th>title</th>\n",
       "    </tr>\n",
       "  </thead>\n",
       "  <tbody>\n",
       "    <tr>\n",
       "      <th>0</th>\n",
       "      <td>Donald Trump Sends Out Embarrassing New Year’...</td>\n",
       "    </tr>\n",
       "    <tr>\n",
       "      <th>1</th>\n",
       "      <td>Drunk Bragging Trump Staffer Started Russian ...</td>\n",
       "    </tr>\n",
       "    <tr>\n",
       "      <th>2</th>\n",
       "      <td>Sheriff David Clarke Becomes An Internet Joke...</td>\n",
       "    </tr>\n",
       "    <tr>\n",
       "      <th>3</th>\n",
       "      <td>Trump Is So Obsessed He Even Has Obama’s Name...</td>\n",
       "    </tr>\n",
       "    <tr>\n",
       "      <th>4</th>\n",
       "      <td>Pope Francis Just Called Out Donald Trump Dur...</td>\n",
       "    </tr>\n",
       "  </tbody>\n",
       "</table>\n",
       "</div>"
      ],
      "text/plain": [
       "                                               title\n",
       "0   Donald Trump Sends Out Embarrassing New Year’...\n",
       "1   Drunk Bragging Trump Staffer Started Russian ...\n",
       "2   Sheriff David Clarke Becomes An Internet Joke...\n",
       "3   Trump Is So Obsessed He Even Has Obama’s Name...\n",
       "4   Pope Francis Just Called Out Donald Trump Dur..."
      ]
     },
     "execution_count": 15,
     "metadata": {},
     "output_type": "execute_result"
    }
   ],
   "source": [
    "fake = pd.read_csv('Fake.csv')\n",
    "fakeData = pd.DataFrame(fake)\n",
    "to_drop= ['text','subject','date']\n",
    "fakeData.drop(to_drop, inplace=True, axis=1)\n",
    "fakeData.head()"
   ]
  },
  {
   "cell_type": "code",
   "execution_count": 16,
   "id": "a5e68008",
   "metadata": {},
   "outputs": [],
   "source": [
    "months = ['(Jan','(Jan.','(January','(Feb','(Feb.','(February', '(Mar','(Mar.', '(March','(Apr','(Apr.','(April',\\\n",
    "         '(May','(Jun','(Jun.', '(June', '(July', '(Jul','(Jul.','(Aug','(Aug.','(August', '(Sept', '(Sept.','(September',\\\n",
    "         '(Oct','(Oct.','(October','(Nov','(Nov.','(November','(Dec','(Dec.','(December']\n",
    "import re\n",
    "word1 = 'Trump on Twitter'\n",
    "word2 = 'Factbox:'\n",
    "for index, row in trueData.iterrows():\n",
    "    new = row['title'].split()\n",
    "    #print(new)\n",
    "    if word1 in row['title']:\n",
    "        row['title']= row['title'].replace(word1, \"\",1)        \n",
    "    if word2 in new:\n",
    "        row['title']= row['title'].replace(word2, \"\",1)  \n",
    "    for i in range(len(new)):\n",
    "        if new[i] in months:\n",
    "            row['title'] = re.sub(\"[\\(\\[].*?[\\)\\]]\", \"\", row['title'])\n",
    "            break\n",
    "            \n",
    "            \n",
    "for index, row in trueData.iterrows():\n",
    "    new = row['title'].split()\n",
    "    flag =0\n",
    "    for i in range(len(new)):\n",
    "        if new[i][len(new[i])-1]==':' and (i== len(new)-2 or i== len(new)-3):\n",
    "            flag =1\n",
    "            break\n",
    "    if flag:\n",
    "        if (i== len(new)-2):\n",
    "#             print(new[i+1])\n",
    "            new.remove(new[i+1])\n",
    "            space = ' '\n",
    "            row['title'] = space.join(new)\n",
    "#             print(row['title'])\n",
    "        if (i==len(new)-3):\n",
    "#             print(i)\n",
    "#             print(len(new))\n",
    "            new.remove(new[i+1])\n",
    "            new.remove(new[i+1])\n",
    "            space = ' '\n",
    "            row['title'] = space.join(new)\n",
    "#             print(row['title'])\n",
    "\n",
    "# trueData.to_csv('cleaned_True.csv')\n",
    "# for index,row in trueData.iterrows():\n",
    "#     print(row['title'])\n"
   ]
  },
  {
   "cell_type": "code",
   "execution_count": 17,
   "id": "9e934ce4",
   "metadata": {},
   "outputs": [],
   "source": [
    "word1 = 'Boiler Room'\n",
    "word2 = 'SUNDAY WIRE'\n",
    "listOfWords = ['Boiler', 'Room', '–', 'EP','#', 'SUNDAY','WIRE:', 'EPISODE', 'Episode', 'Show']\n",
    "for index, row in fakeData.iterrows():\n",
    "    new = row['title'].split()\n",
    "    if word1 in row['title'] or word2 in row['title']:\n",
    "#         print(row['title'])\n",
    "        for i in range(len(new)):\n",
    "#             print(new[i])\n",
    "            if new[i] in listOfWords or new[i][0] == '#':\n",
    "                new[i] = ' '\n",
    "        space = ' '\n",
    "        row['title']=space.join(new)\n",
    "#         print(row['title'])\n",
    "     \n",
    "    for i in range(len(new)):\n",
    "        flag =0\n",
    "        if new[i][0] == '(' and (i == len(new)-1 or i == len(new)-2):\n",
    "            flag=1\n",
    "            break;\n",
    "    if flag:\n",
    "        if i == len(new)-1:\n",
    "            new.remove(new[i])\n",
    "            space = ' '\n",
    "            row['title'] = space.join(new)\n",
    "        if i == len(new)-2:\n",
    "#             print(row['title'])\n",
    "            new.remove(new[i])\n",
    "            new.remove(new[i])\n",
    "            space = ' '\n",
    "            row['title'] = space.join(new)\n",
    "#             print(row['title'])\n",
    "\n",
    "# fakeData.to_csv('cleaned_Fake.csv')"
   ]
  },
  {
   "cell_type": "code",
   "execution_count": 18,
   "id": "28a247ae",
   "metadata": {},
   "outputs": [],
   "source": [
    "## converting all characters to lower to help with the model\n",
    "fakeData['title'] = fakeData['title'].apply(lambda x: str(x).lower())\n",
    "trueData['title'] = trueData['title'].apply(lambda x: str(x).lower())"
   ]
  },
  {
   "cell_type": "code",
   "execution_count": 19,
   "id": "e60e8ab3",
   "metadata": {},
   "outputs": [],
   "source": [
    "## adding new classification column to the datasets to identify the difference between them\n",
    "fakeData['class'] = 0\n",
    "trueData['class'] = 1\n",
    "\n",
    "totalData = fakeData.append(trueData, ignore_index=True)"
   ]
  },
  {
   "cell_type": "code",
   "execution_count": 20,
   "id": "d3dde392",
   "metadata": {},
   "outputs": [],
   "source": [
    "## removing of special characters\n",
    "import preprocess_kgptalkie as ps\n",
    "totalData['title'] = totalData['title'].apply(lambda x: ps.remove_special_chars(x))\n"
   ]
  },
  {
   "cell_type": "code",
   "execution_count": 21,
   "id": "ecf89e12",
   "metadata": {},
   "outputs": [],
   "source": [
    "## convert to csv for the machine learning portion\n",
    "totalData.to_csv('totalData.csv')"
   ]
  }
 ],
 "metadata": {
  "kernelspec": {
   "display_name": "Python 3 (ipykernel)",
   "language": "python",
   "name": "python3"
  },
  "language_info": {
   "codemirror_mode": {
    "name": "ipython",
    "version": 3
   },
   "file_extension": ".py",
   "mimetype": "text/x-python",
   "name": "python",
   "nbconvert_exporter": "python",
   "pygments_lexer": "ipython3",
   "version": "3.9.9"
  }
 },
 "nbformat": 4,
 "nbformat_minor": 5
}
