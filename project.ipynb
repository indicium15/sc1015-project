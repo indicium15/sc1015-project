{
 "cells": [
  {
   "cell_type": "markdown",
   "metadata": {},
   "source": [
    "# SC1015 Mini-Project - SC13 Group 4"
   ]
  },
  {
   "cell_type": "markdown",
   "metadata": {},
   "source": [
    "### Proposed Idea\n",
    "Applying Classification Techniques to News Article Titles to determine if they are fake news\n",
    "\n",
    "#### Methodology\n",
    "1. Dataset - from Kaggle\n",
    "2. Clean Data\n",
    "3. Use TensorFlow - LSTM to predict if a news article is real or fake\n",
    "4. Evaluate - \n",
    "5. Test on new articles\n",
    "6. Conclusion"
   ]
  },
  {
   "cell_type": "markdown",
   "metadata": {},
   "source": []
  }
 ],
 "metadata": {
  "language_info": {
   "name": "python"
  },
  "orig_nbformat": 4
 },
 "nbformat": 4,
 "nbformat_minor": 2
}
