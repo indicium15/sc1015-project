{
  "cells": [
    {
      "cell_type": "code",
      "execution_count": null,
      "metadata": {
        "id": "J0z2H3qjB-to"
      },
      "outputs": [],
      "source": [
        "import numpy as np\n",
        "import pandas as pd\n",
        "import matplotlib.pyplot as plt\n",
        "import gensim\n",
        "import seaborn as sb"
      ]
    },
    {
      "cell_type": "code",
      "execution_count": null,
      "metadata": {
        "id": "ZJmKTohtB-tp"
      },
      "outputs": [],
      "source": [
        "from tensorflow.keras.models import Sequential\n",
        "from tensorflow.keras.layers import Dense, Embedding, LSTM\n",
        "from tensorflow.keras.preprocessing.text import Tokenizer\n",
        "from tensorflow.keras.preprocessing.sequence import pad_sequences\n",
        "from sklearn.model_selection import train_test_split\n",
        "from sklearn.metrics import accuracy_score"
      ]
    },
    {
      "cell_type": "code",
      "execution_count": null,
      "metadata": {
        "id": "0Ma5aTiKB-tq",
        "outputId": "df446755-334e-4dd3-f4c3-1f8a69ffdca0",
        "colab": {
          "base_uri": "https://localhost:8080/"
        }
      },
      "outputs": [
        {
          "output_type": "execute_result",
          "data": {
            "text/plain": [
              "(44898, 2)"
            ]
          },
          "metadata": {},
          "execution_count": 20
        }
      ],
      "source": [
        "totalData = pd.read_csv('https://raw.githubusercontent.com/indicium15/sc1015-project/main/totalData.csv')\n",
        "totalData.drop(['Unnamed: 0'], inplace=True, axis=1)\n",
        "totalData.head()\n",
        "totalData.shape"
      ]
    },
    {
      "cell_type": "code",
      "source": [
        "#removing the null values\n",
        "totalData = totalData[totalData['title'].notnull()]\n"
      ],
      "metadata": {
        "id": "diA6OH1uiOX6"
      },
      "execution_count": null,
      "outputs": []
    },
    {
      "cell_type": "code",
      "execution_count": null,
      "metadata": {
        "id": "A13D1ZeFB-tr",
        "outputId": "f57dc82a-9877-4516-e12e-a1f487d79150",
        "colab": {
          "base_uri": "https://localhost:8080/"
        }
      },
      "outputs": [
        {
          "output_type": "stream",
          "name": "stdout",
          "text": [
            "44891\n"
          ]
        }
      ],
      "source": [
        "\n",
        "# totalData.head()\n",
        "y = totalData['class'].values\n",
        "x = [d.split() for d in totalData['title'].tolist()]\n",
        "print(len(x))\n",
        "\n",
        "# print(x.)\n",
        "# print(y)"
      ]
    },
    {
      "cell_type": "code",
      "execution_count": null,
      "metadata": {
        "id": "nf3JwOwfB-tr",
        "outputId": "5be79068-43d0-4057-da16-2eec2b55f807",
        "colab": {
          "base_uri": "https://localhost:8080/"
        }
      },
      "outputs": [
        {
          "output_type": "execute_result",
          "data": {
            "text/plain": [
              "26133"
            ]
          },
          "metadata": {},
          "execution_count": 23
        }
      ],
      "source": [
        "## converting the words to vectors\n",
        "wordToVec = gensim.models.Word2Vec(sentences=x, size=100, window=10, min_count=1)\n",
        "len(wordToVec.wv.vocab)"
      ]
    },
    {
      "cell_type": "code",
      "execution_count": null,
      "metadata": {
        "id": "8sdLOL6QB-tr"
      },
      "outputs": [],
      "source": [
        "tokenizer = Tokenizer()\n",
        "tokenizer.fit_on_texts(x)\n",
        "x = tokenizer.texts_to_sequences(x)"
      ]
    },
    {
      "cell_type": "code",
      "execution_count": null,
      "metadata": {
        "id": "38JqElPLB-ts",
        "outputId": "38cdd893-9b30-4a24-a275-d5bb43eaa5d5",
        "colab": {
          "base_uri": "https://localhost:8080/",
          "height": 1000
        }
      },
      "outputs": [
        {
          "output_type": "execute_result",
          "data": {
            "text/plain": [
              "(array([1.600e+01, 0.000e+00, 0.000e+00, 0.000e+00, 0.000e+00, 0.000e+00,\n",
              "        0.000e+00, 0.000e+00, 0.000e+00, 0.000e+00, 0.000e+00, 0.000e+00,\n",
              "        0.000e+00, 0.000e+00, 0.000e+00, 0.000e+00, 0.000e+00, 1.600e+01,\n",
              "        0.000e+00, 0.000e+00, 0.000e+00, 0.000e+00, 0.000e+00, 0.000e+00,\n",
              "        0.000e+00, 0.000e+00, 0.000e+00, 0.000e+00, 0.000e+00, 0.000e+00,\n",
              "        0.000e+00, 0.000e+00, 0.000e+00, 0.000e+00, 3.900e+01, 0.000e+00,\n",
              "        0.000e+00, 0.000e+00, 0.000e+00, 0.000e+00, 0.000e+00, 0.000e+00,\n",
              "        0.000e+00, 0.000e+00, 0.000e+00, 0.000e+00, 0.000e+00, 0.000e+00,\n",
              "        0.000e+00, 0.000e+00, 0.000e+00, 8.400e+01, 0.000e+00, 0.000e+00,\n",
              "        0.000e+00, 0.000e+00, 0.000e+00, 0.000e+00, 0.000e+00, 0.000e+00,\n",
              "        0.000e+00, 0.000e+00, 0.000e+00, 0.000e+00, 0.000e+00, 0.000e+00,\n",
              "        0.000e+00, 0.000e+00, 1.810e+02, 0.000e+00, 0.000e+00, 0.000e+00,\n",
              "        0.000e+00, 0.000e+00, 0.000e+00, 0.000e+00, 0.000e+00, 0.000e+00,\n",
              "        0.000e+00, 0.000e+00, 0.000e+00, 0.000e+00, 0.000e+00, 0.000e+00,\n",
              "        0.000e+00, 5.400e+02, 0.000e+00, 0.000e+00, 0.000e+00, 0.000e+00,\n",
              "        0.000e+00, 0.000e+00, 0.000e+00, 0.000e+00, 0.000e+00, 0.000e+00,\n",
              "        0.000e+00, 0.000e+00, 0.000e+00, 0.000e+00, 0.000e+00, 0.000e+00,\n",
              "        1.678e+03, 0.000e+00, 0.000e+00, 0.000e+00, 0.000e+00, 0.000e+00,\n",
              "        0.000e+00, 0.000e+00, 0.000e+00, 0.000e+00, 0.000e+00, 0.000e+00,\n",
              "        0.000e+00, 0.000e+00, 0.000e+00, 0.000e+00, 0.000e+00, 3.705e+03,\n",
              "        0.000e+00, 0.000e+00, 0.000e+00, 0.000e+00, 0.000e+00, 0.000e+00,\n",
              "        0.000e+00, 0.000e+00, 0.000e+00, 0.000e+00, 0.000e+00, 0.000e+00,\n",
              "        0.000e+00, 0.000e+00, 0.000e+00, 0.000e+00, 5.693e+03, 0.000e+00,\n",
              "        0.000e+00, 0.000e+00, 0.000e+00, 0.000e+00, 0.000e+00, 0.000e+00,\n",
              "        0.000e+00, 0.000e+00, 0.000e+00, 0.000e+00, 0.000e+00, 0.000e+00,\n",
              "        0.000e+00, 0.000e+00, 0.000e+00, 6.451e+03, 0.000e+00, 0.000e+00,\n",
              "        0.000e+00, 0.000e+00, 0.000e+00, 0.000e+00, 0.000e+00, 0.000e+00,\n",
              "        0.000e+00, 0.000e+00, 0.000e+00, 0.000e+00, 0.000e+00, 0.000e+00,\n",
              "        0.000e+00, 0.000e+00, 5.553e+03, 0.000e+00, 0.000e+00, 0.000e+00,\n",
              "        0.000e+00, 0.000e+00, 0.000e+00, 0.000e+00, 0.000e+00, 0.000e+00,\n",
              "        0.000e+00, 0.000e+00, 0.000e+00, 0.000e+00, 0.000e+00, 0.000e+00,\n",
              "        0.000e+00, 4.431e+03, 0.000e+00, 0.000e+00, 0.000e+00, 0.000e+00,\n",
              "        0.000e+00, 0.000e+00, 0.000e+00, 0.000e+00, 0.000e+00, 0.000e+00,\n",
              "        0.000e+00, 0.000e+00, 0.000e+00, 0.000e+00, 0.000e+00, 0.000e+00,\n",
              "        3.512e+03, 0.000e+00, 0.000e+00, 0.000e+00, 0.000e+00, 0.000e+00,\n",
              "        0.000e+00, 0.000e+00, 0.000e+00, 0.000e+00, 0.000e+00, 0.000e+00,\n",
              "        0.000e+00, 0.000e+00, 0.000e+00, 0.000e+00, 0.000e+00, 2.868e+03,\n",
              "        0.000e+00, 0.000e+00, 0.000e+00, 0.000e+00, 0.000e+00, 0.000e+00,\n",
              "        0.000e+00, 0.000e+00, 0.000e+00, 0.000e+00, 0.000e+00, 0.000e+00,\n",
              "        0.000e+00, 0.000e+00, 0.000e+00, 0.000e+00, 0.000e+00, 2.428e+03,\n",
              "        0.000e+00, 0.000e+00, 0.000e+00, 0.000e+00, 0.000e+00, 0.000e+00,\n",
              "        0.000e+00, 0.000e+00, 0.000e+00, 0.000e+00, 0.000e+00, 0.000e+00,\n",
              "        0.000e+00, 0.000e+00, 0.000e+00, 0.000e+00, 1.750e+03, 0.000e+00,\n",
              "        0.000e+00, 0.000e+00, 0.000e+00, 0.000e+00, 0.000e+00, 0.000e+00,\n",
              "        0.000e+00, 0.000e+00, 0.000e+00, 0.000e+00, 0.000e+00, 0.000e+00,\n",
              "        0.000e+00, 0.000e+00, 0.000e+00, 1.267e+03, 0.000e+00, 0.000e+00,\n",
              "        0.000e+00, 0.000e+00, 0.000e+00, 0.000e+00, 0.000e+00, 0.000e+00,\n",
              "        0.000e+00, 0.000e+00, 0.000e+00, 0.000e+00, 0.000e+00, 0.000e+00,\n",
              "        0.000e+00, 0.000e+00, 1.031e+03, 0.000e+00, 0.000e+00, 0.000e+00,\n",
              "        0.000e+00, 0.000e+00, 0.000e+00, 0.000e+00, 0.000e+00, 0.000e+00,\n",
              "        0.000e+00, 0.000e+00, 0.000e+00, 0.000e+00, 0.000e+00, 0.000e+00,\n",
              "        0.000e+00, 7.350e+02, 0.000e+00, 0.000e+00, 0.000e+00, 0.000e+00,\n",
              "        0.000e+00, 0.000e+00, 0.000e+00, 0.000e+00, 0.000e+00, 0.000e+00,\n",
              "        0.000e+00, 0.000e+00, 0.000e+00, 0.000e+00, 0.000e+00, 0.000e+00,\n",
              "        6.810e+02, 0.000e+00, 0.000e+00, 0.000e+00, 0.000e+00, 0.000e+00,\n",
              "        0.000e+00, 0.000e+00, 0.000e+00, 0.000e+00, 0.000e+00, 0.000e+00,\n",
              "        0.000e+00, 0.000e+00, 0.000e+00, 0.000e+00, 0.000e+00, 5.190e+02,\n",
              "        0.000e+00, 0.000e+00, 0.000e+00, 0.000e+00, 0.000e+00, 0.000e+00,\n",
              "        0.000e+00, 0.000e+00, 0.000e+00, 0.000e+00, 0.000e+00, 0.000e+00,\n",
              "        0.000e+00, 0.000e+00, 0.000e+00, 0.000e+00, 4.230e+02, 0.000e+00,\n",
              "        0.000e+00, 0.000e+00, 0.000e+00, 0.000e+00, 0.000e+00, 0.000e+00,\n",
              "        0.000e+00, 0.000e+00, 0.000e+00, 0.000e+00, 0.000e+00, 0.000e+00,\n",
              "        0.000e+00, 0.000e+00, 0.000e+00, 3.290e+02, 0.000e+00, 0.000e+00,\n",
              "        0.000e+00, 0.000e+00, 0.000e+00, 0.000e+00, 0.000e+00, 0.000e+00,\n",
              "        0.000e+00, 0.000e+00, 0.000e+00, 0.000e+00, 0.000e+00, 0.000e+00,\n",
              "        0.000e+00, 0.000e+00, 2.480e+02, 0.000e+00, 0.000e+00, 0.000e+00,\n",
              "        0.000e+00, 0.000e+00, 0.000e+00, 0.000e+00, 0.000e+00, 0.000e+00,\n",
              "        0.000e+00, 0.000e+00, 0.000e+00, 0.000e+00, 0.000e+00, 0.000e+00,\n",
              "        0.000e+00, 1.220e+02, 0.000e+00, 0.000e+00, 0.000e+00, 0.000e+00,\n",
              "        0.000e+00, 0.000e+00, 0.000e+00, 0.000e+00, 0.000e+00, 0.000e+00,\n",
              "        0.000e+00, 0.000e+00, 0.000e+00, 0.000e+00, 0.000e+00, 0.000e+00,\n",
              "        1.700e+02, 0.000e+00, 0.000e+00, 0.000e+00, 0.000e+00, 0.000e+00,\n",
              "        0.000e+00, 0.000e+00, 0.000e+00, 0.000e+00, 0.000e+00, 0.000e+00,\n",
              "        0.000e+00, 0.000e+00, 0.000e+00, 0.000e+00, 0.000e+00, 8.600e+01,\n",
              "        0.000e+00, 0.000e+00, 0.000e+00, 0.000e+00, 0.000e+00, 0.000e+00,\n",
              "        0.000e+00, 0.000e+00, 0.000e+00, 0.000e+00, 0.000e+00, 0.000e+00,\n",
              "        0.000e+00, 0.000e+00, 0.000e+00, 0.000e+00, 8.000e+01, 0.000e+00,\n",
              "        0.000e+00, 0.000e+00, 0.000e+00, 0.000e+00, 0.000e+00, 0.000e+00,\n",
              "        0.000e+00, 0.000e+00, 0.000e+00, 0.000e+00, 0.000e+00, 0.000e+00,\n",
              "        0.000e+00, 0.000e+00, 0.000e+00, 0.000e+00, 6.700e+01, 0.000e+00,\n",
              "        0.000e+00, 0.000e+00, 0.000e+00, 0.000e+00, 0.000e+00, 0.000e+00,\n",
              "        0.000e+00, 0.000e+00, 0.000e+00, 0.000e+00, 0.000e+00, 0.000e+00,\n",
              "        0.000e+00, 0.000e+00, 0.000e+00, 5.300e+01, 0.000e+00, 0.000e+00,\n",
              "        0.000e+00, 0.000e+00, 0.000e+00, 0.000e+00, 0.000e+00, 0.000e+00,\n",
              "        0.000e+00, 0.000e+00, 0.000e+00, 0.000e+00, 0.000e+00, 0.000e+00,\n",
              "        0.000e+00, 0.000e+00, 3.300e+01, 0.000e+00, 0.000e+00, 0.000e+00,\n",
              "        0.000e+00, 0.000e+00, 0.000e+00, 0.000e+00, 0.000e+00, 0.000e+00,\n",
              "        0.000e+00, 0.000e+00, 0.000e+00, 0.000e+00, 0.000e+00, 0.000e+00,\n",
              "        0.000e+00, 2.700e+01, 0.000e+00, 0.000e+00, 0.000e+00, 0.000e+00,\n",
              "        0.000e+00, 0.000e+00, 0.000e+00, 0.000e+00, 0.000e+00, 0.000e+00,\n",
              "        0.000e+00, 0.000e+00, 0.000e+00, 0.000e+00, 0.000e+00, 0.000e+00,\n",
              "        3.100e+01, 0.000e+00, 0.000e+00, 0.000e+00, 0.000e+00, 0.000e+00,\n",
              "        0.000e+00, 0.000e+00, 0.000e+00, 0.000e+00, 0.000e+00, 0.000e+00,\n",
              "        0.000e+00, 0.000e+00, 0.000e+00, 0.000e+00, 0.000e+00, 8.000e+00,\n",
              "        0.000e+00, 0.000e+00, 0.000e+00, 0.000e+00, 0.000e+00, 0.000e+00,\n",
              "        0.000e+00, 0.000e+00, 0.000e+00, 0.000e+00, 0.000e+00, 0.000e+00,\n",
              "        0.000e+00, 0.000e+00, 0.000e+00, 0.000e+00, 1.100e+01, 0.000e+00,\n",
              "        0.000e+00, 0.000e+00, 0.000e+00, 0.000e+00, 0.000e+00, 0.000e+00,\n",
              "        0.000e+00, 0.000e+00, 0.000e+00, 0.000e+00, 0.000e+00, 0.000e+00,\n",
              "        0.000e+00, 0.000e+00, 0.000e+00, 8.000e+00, 0.000e+00, 0.000e+00,\n",
              "        0.000e+00, 0.000e+00, 0.000e+00, 0.000e+00, 0.000e+00, 0.000e+00,\n",
              "        0.000e+00, 0.000e+00, 0.000e+00, 0.000e+00, 0.000e+00, 0.000e+00,\n",
              "        0.000e+00, 0.000e+00, 4.000e+00, 0.000e+00, 0.000e+00, 0.000e+00,\n",
              "        0.000e+00, 0.000e+00, 0.000e+00, 0.000e+00, 0.000e+00, 0.000e+00,\n",
              "        0.000e+00, 0.000e+00, 0.000e+00, 0.000e+00, 0.000e+00, 0.000e+00,\n",
              "        0.000e+00, 4.000e+00, 0.000e+00, 0.000e+00, 0.000e+00, 0.000e+00,\n",
              "        0.000e+00, 0.000e+00, 0.000e+00, 0.000e+00, 0.000e+00, 0.000e+00,\n",
              "        0.000e+00, 0.000e+00, 0.000e+00, 0.000e+00, 0.000e+00, 0.000e+00,\n",
              "        3.000e+00, 0.000e+00, 0.000e+00, 0.000e+00, 0.000e+00, 0.000e+00,\n",
              "        0.000e+00, 0.000e+00, 0.000e+00, 0.000e+00, 0.000e+00, 0.000e+00,\n",
              "        0.000e+00, 0.000e+00, 0.000e+00, 0.000e+00, 0.000e+00, 0.000e+00,\n",
              "        0.000e+00, 0.000e+00, 0.000e+00, 0.000e+00, 0.000e+00, 0.000e+00,\n",
              "        0.000e+00, 0.000e+00, 0.000e+00, 0.000e+00, 0.000e+00, 0.000e+00,\n",
              "        0.000e+00, 0.000e+00, 0.000e+00, 0.000e+00, 2.000e+00, 0.000e+00,\n",
              "        0.000e+00, 0.000e+00, 0.000e+00, 0.000e+00, 0.000e+00, 0.000e+00,\n",
              "        0.000e+00, 0.000e+00, 0.000e+00, 0.000e+00, 0.000e+00, 0.000e+00,\n",
              "        0.000e+00, 0.000e+00, 0.000e+00, 4.000e+00]),\n",
              " array([ 1.        ,  1.05857143,  1.11714286,  1.17571429,  1.23428571,\n",
              "         1.29285714,  1.35142857,  1.41      ,  1.46857143,  1.52714286,\n",
              "         1.58571429,  1.64428571,  1.70285714,  1.76142857,  1.82      ,\n",
              "         1.87857143,  1.93714286,  1.99571429,  2.05428571,  2.11285714,\n",
              "         2.17142857,  2.23      ,  2.28857143,  2.34714286,  2.40571429,\n",
              "         2.46428571,  2.52285714,  2.58142857,  2.64      ,  2.69857143,\n",
              "         2.75714286,  2.81571429,  2.87428571,  2.93285714,  2.99142857,\n",
              "         3.05      ,  3.10857143,  3.16714286,  3.22571429,  3.28428571,\n",
              "         3.34285714,  3.40142857,  3.46      ,  3.51857143,  3.57714286,\n",
              "         3.63571429,  3.69428571,  3.75285714,  3.81142857,  3.87      ,\n",
              "         3.92857143,  3.98714286,  4.04571429,  4.10428571,  4.16285714,\n",
              "         4.22142857,  4.28      ,  4.33857143,  4.39714286,  4.45571429,\n",
              "         4.51428571,  4.57285714,  4.63142857,  4.69      ,  4.74857143,\n",
              "         4.80714286,  4.86571429,  4.92428571,  4.98285714,  5.04142857,\n",
              "         5.1       ,  5.15857143,  5.21714286,  5.27571429,  5.33428571,\n",
              "         5.39285714,  5.45142857,  5.51      ,  5.56857143,  5.62714286,\n",
              "         5.68571429,  5.74428571,  5.80285714,  5.86142857,  5.92      ,\n",
              "         5.97857143,  6.03714286,  6.09571429,  6.15428571,  6.21285714,\n",
              "         6.27142857,  6.33      ,  6.38857143,  6.44714286,  6.50571429,\n",
              "         6.56428571,  6.62285714,  6.68142857,  6.74      ,  6.79857143,\n",
              "         6.85714286,  6.91571429,  6.97428571,  7.03285714,  7.09142857,\n",
              "         7.15      ,  7.20857143,  7.26714286,  7.32571429,  7.38428571,\n",
              "         7.44285714,  7.50142857,  7.56      ,  7.61857143,  7.67714286,\n",
              "         7.73571429,  7.79428571,  7.85285714,  7.91142857,  7.97      ,\n",
              "         8.02857143,  8.08714286,  8.14571429,  8.20428571,  8.26285714,\n",
              "         8.32142857,  8.38      ,  8.43857143,  8.49714286,  8.55571429,\n",
              "         8.61428571,  8.67285714,  8.73142857,  8.79      ,  8.84857143,\n",
              "         8.90714286,  8.96571429,  9.02428571,  9.08285714,  9.14142857,\n",
              "         9.2       ,  9.25857143,  9.31714286,  9.37571429,  9.43428571,\n",
              "         9.49285714,  9.55142857,  9.61      ,  9.66857143,  9.72714286,\n",
              "         9.78571429,  9.84428571,  9.90285714,  9.96142857, 10.02      ,\n",
              "        10.07857143, 10.13714286, 10.19571429, 10.25428571, 10.31285714,\n",
              "        10.37142857, 10.43      , 10.48857143, 10.54714286, 10.60571429,\n",
              "        10.66428571, 10.72285714, 10.78142857, 10.84      , 10.89857143,\n",
              "        10.95714286, 11.01571429, 11.07428571, 11.13285714, 11.19142857,\n",
              "        11.25      , 11.30857143, 11.36714286, 11.42571429, 11.48428571,\n",
              "        11.54285714, 11.60142857, 11.66      , 11.71857143, 11.77714286,\n",
              "        11.83571429, 11.89428571, 11.95285714, 12.01142857, 12.07      ,\n",
              "        12.12857143, 12.18714286, 12.24571429, 12.30428571, 12.36285714,\n",
              "        12.42142857, 12.48      , 12.53857143, 12.59714286, 12.65571429,\n",
              "        12.71428571, 12.77285714, 12.83142857, 12.89      , 12.94857143,\n",
              "        13.00714286, 13.06571429, 13.12428571, 13.18285714, 13.24142857,\n",
              "        13.3       , 13.35857143, 13.41714286, 13.47571429, 13.53428571,\n",
              "        13.59285714, 13.65142857, 13.71      , 13.76857143, 13.82714286,\n",
              "        13.88571429, 13.94428571, 14.00285714, 14.06142857, 14.12      ,\n",
              "        14.17857143, 14.23714286, 14.29571429, 14.35428571, 14.41285714,\n",
              "        14.47142857, 14.53      , 14.58857143, 14.64714286, 14.70571429,\n",
              "        14.76428571, 14.82285714, 14.88142857, 14.94      , 14.99857143,\n",
              "        15.05714286, 15.11571429, 15.17428571, 15.23285714, 15.29142857,\n",
              "        15.35      , 15.40857143, 15.46714286, 15.52571429, 15.58428571,\n",
              "        15.64285714, 15.70142857, 15.76      , 15.81857143, 15.87714286,\n",
              "        15.93571429, 15.99428571, 16.05285714, 16.11142857, 16.17      ,\n",
              "        16.22857143, 16.28714286, 16.34571429, 16.40428571, 16.46285714,\n",
              "        16.52142857, 16.58      , 16.63857143, 16.69714286, 16.75571429,\n",
              "        16.81428571, 16.87285714, 16.93142857, 16.99      , 17.04857143,\n",
              "        17.10714286, 17.16571429, 17.22428571, 17.28285714, 17.34142857,\n",
              "        17.4       , 17.45857143, 17.51714286, 17.57571429, 17.63428571,\n",
              "        17.69285714, 17.75142857, 17.81      , 17.86857143, 17.92714286,\n",
              "        17.98571429, 18.04428571, 18.10285714, 18.16142857, 18.22      ,\n",
              "        18.27857143, 18.33714286, 18.39571429, 18.45428571, 18.51285714,\n",
              "        18.57142857, 18.63      , 18.68857143, 18.74714286, 18.80571429,\n",
              "        18.86428571, 18.92285714, 18.98142857, 19.04      , 19.09857143,\n",
              "        19.15714286, 19.21571429, 19.27428571, 19.33285714, 19.39142857,\n",
              "        19.45      , 19.50857143, 19.56714286, 19.62571429, 19.68428571,\n",
              "        19.74285714, 19.80142857, 19.86      , 19.91857143, 19.97714286,\n",
              "        20.03571429, 20.09428571, 20.15285714, 20.21142857, 20.27      ,\n",
              "        20.32857143, 20.38714286, 20.44571429, 20.50428571, 20.56285714,\n",
              "        20.62142857, 20.68      , 20.73857143, 20.79714286, 20.85571429,\n",
              "        20.91428571, 20.97285714, 21.03142857, 21.09      , 21.14857143,\n",
              "        21.20714286, 21.26571429, 21.32428571, 21.38285714, 21.44142857,\n",
              "        21.5       , 21.55857143, 21.61714286, 21.67571429, 21.73428571,\n",
              "        21.79285714, 21.85142857, 21.91      , 21.96857143, 22.02714286,\n",
              "        22.08571429, 22.14428571, 22.20285714, 22.26142857, 22.32      ,\n",
              "        22.37857143, 22.43714286, 22.49571429, 22.55428571, 22.61285714,\n",
              "        22.67142857, 22.73      , 22.78857143, 22.84714286, 22.90571429,\n",
              "        22.96428571, 23.02285714, 23.08142857, 23.14      , 23.19857143,\n",
              "        23.25714286, 23.31571429, 23.37428571, 23.43285714, 23.49142857,\n",
              "        23.55      , 23.60857143, 23.66714286, 23.72571429, 23.78428571,\n",
              "        23.84285714, 23.90142857, 23.96      , 24.01857143, 24.07714286,\n",
              "        24.13571429, 24.19428571, 24.25285714, 24.31142857, 24.37      ,\n",
              "        24.42857143, 24.48714286, 24.54571429, 24.60428571, 24.66285714,\n",
              "        24.72142857, 24.78      , 24.83857143, 24.89714286, 24.95571429,\n",
              "        25.01428571, 25.07285714, 25.13142857, 25.19      , 25.24857143,\n",
              "        25.30714286, 25.36571429, 25.42428571, 25.48285714, 25.54142857,\n",
              "        25.6       , 25.65857143, 25.71714286, 25.77571429, 25.83428571,\n",
              "        25.89285714, 25.95142857, 26.01      , 26.06857143, 26.12714286,\n",
              "        26.18571429, 26.24428571, 26.30285714, 26.36142857, 26.42      ,\n",
              "        26.47857143, 26.53714286, 26.59571429, 26.65428571, 26.71285714,\n",
              "        26.77142857, 26.83      , 26.88857143, 26.94714286, 27.00571429,\n",
              "        27.06428571, 27.12285714, 27.18142857, 27.24      , 27.29857143,\n",
              "        27.35714286, 27.41571429, 27.47428571, 27.53285714, 27.59142857,\n",
              "        27.65      , 27.70857143, 27.76714286, 27.82571429, 27.88428571,\n",
              "        27.94285714, 28.00142857, 28.06      , 28.11857143, 28.17714286,\n",
              "        28.23571429, 28.29428571, 28.35285714, 28.41142857, 28.47      ,\n",
              "        28.52857143, 28.58714286, 28.64571429, 28.70428571, 28.76285714,\n",
              "        28.82142857, 28.88      , 28.93857143, 28.99714286, 29.05571429,\n",
              "        29.11428571, 29.17285714, 29.23142857, 29.29      , 29.34857143,\n",
              "        29.40714286, 29.46571429, 29.52428571, 29.58285714, 29.64142857,\n",
              "        29.7       , 29.75857143, 29.81714286, 29.87571429, 29.93428571,\n",
              "        29.99285714, 30.05142857, 30.11      , 30.16857143, 30.22714286,\n",
              "        30.28571429, 30.34428571, 30.40285714, 30.46142857, 30.52      ,\n",
              "        30.57857143, 30.63714286, 30.69571429, 30.75428571, 30.81285714,\n",
              "        30.87142857, 30.93      , 30.98857143, 31.04714286, 31.10571429,\n",
              "        31.16428571, 31.22285714, 31.28142857, 31.34      , 31.39857143,\n",
              "        31.45714286, 31.51571429, 31.57428571, 31.63285714, 31.69142857,\n",
              "        31.75      , 31.80857143, 31.86714286, 31.92571429, 31.98428571,\n",
              "        32.04285714, 32.10142857, 32.16      , 32.21857143, 32.27714286,\n",
              "        32.33571429, 32.39428571, 32.45285714, 32.51142857, 32.57      ,\n",
              "        32.62857143, 32.68714286, 32.74571429, 32.80428571, 32.86285714,\n",
              "        32.92142857, 32.98      , 33.03857143, 33.09714286, 33.15571429,\n",
              "        33.21428571, 33.27285714, 33.33142857, 33.39      , 33.44857143,\n",
              "        33.50714286, 33.56571429, 33.62428571, 33.68285714, 33.74142857,\n",
              "        33.8       , 33.85857143, 33.91714286, 33.97571429, 34.03428571,\n",
              "        34.09285714, 34.15142857, 34.21      , 34.26857143, 34.32714286,\n",
              "        34.38571429, 34.44428571, 34.50285714, 34.56142857, 34.62      ,\n",
              "        34.67857143, 34.73714286, 34.79571429, 34.85428571, 34.91285714,\n",
              "        34.97142857, 35.03      , 35.08857143, 35.14714286, 35.20571429,\n",
              "        35.26428571, 35.32285714, 35.38142857, 35.44      , 35.49857143,\n",
              "        35.55714286, 35.61571429, 35.67428571, 35.73285714, 35.79142857,\n",
              "        35.85      , 35.90857143, 35.96714286, 36.02571429, 36.08428571,\n",
              "        36.14285714, 36.20142857, 36.26      , 36.31857143, 36.37714286,\n",
              "        36.43571429, 36.49428571, 36.55285714, 36.61142857, 36.67      ,\n",
              "        36.72857143, 36.78714286, 36.84571429, 36.90428571, 36.96285714,\n",
              "        37.02142857, 37.08      , 37.13857143, 37.19714286, 37.25571429,\n",
              "        37.31428571, 37.37285714, 37.43142857, 37.49      , 37.54857143,\n",
              "        37.60714286, 37.66571429, 37.72428571, 37.78285714, 37.84142857,\n",
              "        37.9       , 37.95857143, 38.01714286, 38.07571429, 38.13428571,\n",
              "        38.19285714, 38.25142857, 38.31      , 38.36857143, 38.42714286,\n",
              "        38.48571429, 38.54428571, 38.60285714, 38.66142857, 38.72      ,\n",
              "        38.77857143, 38.83714286, 38.89571429, 38.95428571, 39.01285714,\n",
              "        39.07142857, 39.13      , 39.18857143, 39.24714286, 39.30571429,\n",
              "        39.36428571, 39.42285714, 39.48142857, 39.54      , 39.59857143,\n",
              "        39.65714286, 39.71571429, 39.77428571, 39.83285714, 39.89142857,\n",
              "        39.95      , 40.00857143, 40.06714286, 40.12571429, 40.18428571,\n",
              "        40.24285714, 40.30142857, 40.36      , 40.41857143, 40.47714286,\n",
              "        40.53571429, 40.59428571, 40.65285714, 40.71142857, 40.77      ,\n",
              "        40.82857143, 40.88714286, 40.94571429, 41.00428571, 41.06285714,\n",
              "        41.12142857, 41.18      , 41.23857143, 41.29714286, 41.35571429,\n",
              "        41.41428571, 41.47285714, 41.53142857, 41.59      , 41.64857143,\n",
              "        41.70714286, 41.76571429, 41.82428571, 41.88285714, 41.94142857,\n",
              "        42.        ]),\n",
              " <a list of 700 Patch objects>)"
            ]
          },
          "metadata": {},
          "execution_count": 25
        },
        {
          "output_type": "display_data",
          "data": {
            "text/plain": [
              "<Figure size 432x288 with 1 Axes>"
            ],
            "image/png": "[encoded data removed]"
          },
          "metadata": {
            "needs_background": "light"
          }
        }
      ],
      "source": [
        "plt.hist([len(y) for y in x], bins=700)"
      ]
    },
    {
      "cell_type": "code",
      "execution_count": null,
      "metadata": {
        "id": "y2fXr30LB-ts"
      },
      "outputs": [],
      "source": [
        "array = np.array([len(y) for y in x])\n",
        "maximumLength = 1000\n",
        "x = pad_sequences(x, maxlen=maximumLength)"
      ]
    },
    {
      "cell_type": "code",
      "execution_count": null,
      "metadata": {
        "id": "Hus5UYUSB-ts"
      },
      "outputs": [],
      "source": [
        "sizeOfVocab = len(tokenizer.word_index) + 1\n",
        "totalVocab = tokenizer.word_index\n"
      ]
    },
    {
      "cell_type": "code",
      "execution_count": null,
      "metadata": {
        "id": "6EpeZXFJB-ts"
      },
      "outputs": [],
      "source": [
        "def calculateMatrixWeight(model):\n",
        "    matrixWeight = np.zeros((sizeOfVocab, 100))\n",
        "    for word, index in totalVocab.items():\n",
        "        matrixWeight[index]=model.wv[word]\n",
        "    return matrixWeight"
      ]
    },
    {
      "cell_type": "code",
      "execution_count": null,
      "metadata": {
        "id": "PqZVQ29JB-tt",
        "outputId": "418edd57-5bee-43f5-dccd-4cafd5b013c9",
        "colab": {
          "base_uri": "https://localhost:8080/"
        }
      },
      "outputs": [
        {
          "output_type": "execute_result",
          "data": {
            "text/plain": [
              "(26134, 100)"
            ]
          },
          "metadata": {},
          "execution_count": 29
        }
      ],
      "source": [
        "vectorsToEmbed = calculateMatrixWeight(wordToVec)\n",
        "vectorsToEmbed.shape"
      ]
    },
    {
      "cell_type": "code",
      "execution_count": null,
      "metadata": {
        "id": "Ky9b__6gB-tt"
      },
      "outputs": [],
      "source": [
        "totalModel = Sequential()\n",
        "totalModel.add(Embedding(sizeOfVocab, output_dim=100, weights=[vectorsToEmbed], input_length=maximumLength, trainable=False))\n",
        "totalModel.add(LSTM(units=128))\n",
        "totalModel.add(Dense(1, activation='sigmoid'))\n",
        "totalModel.compile(optimizer='adam', loss='binary_crossentropy', metrics=['acc'])"
      ]
    },
    {
      "cell_type": "code",
      "execution_count": null,
      "metadata": {
        "id": "kpOVVJ15B-tt",
        "outputId": "4a8cd533-c2bb-4b65-d8b3-002ea893ae79",
        "colab": {
          "base_uri": "https://localhost:8080/"
        }
      },
      "outputs": [
        {
          "output_type": "stream",
          "name": "stdout",
          "text": [
            "Epoch 1/9\n",
            "369/369 [==============================] - 94s 235ms/step - loss: 0.2941 - acc: 0.8739 - val_loss: 0.2426 - val_acc: 0.9027\n",
            "Epoch 2/9\n",
            "369/369 [==============================] - 94s 255ms/step - loss: 0.2472 - acc: 0.8970 - val_loss: 0.2568 - val_acc: 0.8934\n",
            "Epoch 3/9\n",
            "369/369 [==============================] - 84s 229ms/step - loss: 0.3512 - acc: 0.8479 - val_loss: 0.2933 - val_acc: 0.8782\n",
            "Epoch 4/9\n",
            "369/369 [==============================] - 84s 227ms/step - loss: 0.2951 - acc: 0.8749 - val_loss: 0.2557 - val_acc: 0.8975\n",
            "Epoch 5/9\n",
            "369/369 [==============================] - 84s 227ms/step - loss: 0.2642 - acc: 0.8908 - val_loss: 0.2506 - val_acc: 0.9002\n",
            "Epoch 6/9\n",
            "369/369 [==============================] - 84s 228ms/step - loss: 0.2586 - acc: 0.8942 - val_loss: 0.2519 - val_acc: 0.8980\n",
            "Epoch 7/9\n",
            "369/369 [==============================] - 93s 253ms/step - loss: 0.2333 - acc: 0.9036 - val_loss: 0.2386 - val_acc: 0.9052\n",
            "Epoch 8/9\n",
            "369/369 [==============================] - 84s 228ms/step - loss: 0.2337 - acc: 0.9037 - val_loss: 0.2293 - val_acc: 0.9083\n",
            "Epoch 9/9\n",
            "369/369 [==============================] - 84s 228ms/step - loss: 0.2208 - acc: 0.9114 - val_loss: 0.2248 - val_acc: 0.9114\n"
          ]
        },
        {
          "output_type": "execute_result",
          "data": {
            "text/plain": [
              "<keras.callbacks.History at 0x7f95cb4a5cd0>"
            ]
          },
          "metadata": {},
          "execution_count": 31
        }
      ],
      "source": [
        "x_train, x_test, y_train, y_test = train_test_split(x,y)\n",
        "totalModel.fit(x_train,y_train, validation_split=0.65, epochs=9)\n",
        "# print(y.shape)\n",
        "# print(x.shape)"
      ]
    },
    {
      "cell_type": "code",
      "execution_count": null,
      "metadata": {
        "id": "98iw9YM3B-tu",
        "outputId": "156df8c2-6da1-41b7-911f-e70aded7a7b2",
        "colab": {
          "base_uri": "https://localhost:8080/"
        }
      },
      "outputs": [
        {
          "output_type": "stream",
          "name": "stdout",
          "text": [
            "The accuracy for test: 0.9110754700169296\n"
          ]
        }
      ],
      "source": [
        "y_pred_train = (totalModel.predict(x_train) >= 0.5).astype(int)\n",
        "y_pred_test = (totalModel.predict(x_test) >= 0.5).astype(int)\n",
        "print('The accuracy for test: {}'.format(accuracy_score(y_test, y_pred_test)))"
      ]
    },
    {
      "cell_type": "code",
      "execution_count": null,
      "metadata": {
        "id": "untOe5z6B-tu",
        "outputId": "4b4ea91c-e4e5-406c-ab8e-3f8366e50157",
        "colab": {
          "base_uri": "https://localhost:8080/",
          "height": 474
        }
      },
      "outputs": [
        {
          "output_type": "execute_result",
          "data": {
            "text/plain": [
              "[Text(0.5, 51.0, 'Test Data')]"
            ]
          },
          "metadata": {},
          "execution_count": 33
        },
        {
          "output_type": "display_data",
          "data": {
            "text/plain": [
              "<Figure size 1440x576 with 4 Axes>"
            ],
            "image/png": "[encoded data removed]"
          },
          "metadata": {
            "needs_background": "light"
          }
        }
      ],
      "source": [
        "f, axes = plt.subplots(1, 2, figsize=(20, 8))\n",
        "\n",
        "from sklearn.metrics import confusion_matrix\n",
        "train = sb.heatmap(confusion_matrix(y_train, y_pred_train), \n",
        "           annot = True, fmt=\".0f\", annot_kws={\"size\": 18}, ax=axes[0])\n",
        "train.set( xlabel = \"Train Data\")\n",
        "\n",
        "\n",
        "test = sb.heatmap(confusion_matrix(y_test, y_pred_test), \n",
        "           annot = True, fmt=\".0f\", annot_kws={\"size\": 18}, ax=axes[1])\n",
        "test.set(xlabel=\"Test Data\")"
      ]
    },
    {
      "cell_type": "code",
      "execution_count": null,
      "metadata": {
        "id": "lcYbZEEhB-tu",
        "outputId": "468e8a2e-d24c-4967-eb61-ae4aa77c9551",
        "colab": {
          "base_uri": "https://localhost:8080/"
        }
      },
      "outputs": [
        {
          "output_type": "execute_result",
          "data": {
            "text/plain": [
              "array([[0]])"
            ]
          },
          "metadata": {},
          "execution_count": 34
        }
      ],
      "source": [
        "x = ['hello there how are you']\n",
        "x = tokenizer.texts_to_sequences(x)\n",
        "x = pad_sequences(x, maxlen=maximumLength)\n",
        "(totalModel.predict(x)>=0.5).astype(int)"
      ]
    }
  ],
  "metadata": {
    "interpreter": {
      "hash": "08fa0a2ff23b6fb6dcf976fe22032a5a31e526f812991b05bea1edd95204f3f9"
    },
    "kernelspec": {
      "display_name": "Python 3 (ipykernel)",
      "language": "python",
      "name": "python3"
    },
    "language_info": {
      "codemirror_mode": {
        "name": "ipython",
        "version": 3
      },
      "file_extension": ".py",
      "mimetype": "text/x-python",
      "name": "python",
      "nbconvert_exporter": "python",
      "pygments_lexer": "ipython3",
      "version": "3.9.9"
    },
    "colab": {
      "name": "Copy of machineLearningLSTM.ipynb",
      "provenance": []
    },
    "accelerator": "GPU"
  },
  "nbformat": 4,
  "nbformat_minor": 0
}