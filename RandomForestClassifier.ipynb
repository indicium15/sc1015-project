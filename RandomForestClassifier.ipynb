{
  "nbformat": 4,
  "nbformat_minor": 0,
  "metadata": {
    "colab": {
      "name": "RandomForestClassifier.ipynb",
      "provenance": []
    },
    "kernelspec": {
      "name": "python3",
      "display_name": "Python 3"
    },
    "language_info": {
      "name": "python"
    }
  },
  "cells": [
    {
      "cell_type": "code",
      "execution_count": null,
      "metadata": {
        "colab": {
          "base_uri": "https://localhost:8080/"
        },
        "id": "EG7DDY4992tn",
        "outputId": "2e66989e-2bb7-499a-b955-5dff41f74660"
      },
      "outputs": [
        {
          "output_type": "stream",
          "name": "stdout",
          "text": [
            "[nltk_data] Downloading package wordnet to /root/nltk_data...\n",
            "[nltk_data]   Package wordnet is already up-to-date!\n"
          ]
        }
      ],
      "source": [
        "import pandas as pd\n",
        "import numpy as np\n",
        "import nltk\n",
        "nltk.download('wordnet')\n",
        "from nltk.stem import WordNetLemmatizer\n",
        "from sklearn.feature_extraction.text import TfidfVectorizer\n",
        "from sklearn.model_selection import train_test_split\n",
        "from sklearn.linear_model import LogisticRegression\n",
        "from sklearn.metrics import accuracy_score, confusion_matrix\n",
        "from sklearn.ensemble import RandomForestClassifier"
      ]
    },
    {
      "cell_type": "code",
      "source": [
        "totalData = pd.read_csv('https://raw.githubusercontent.com/indicium15/sc1015-project/main/totalData.csv')\n",
        "totalData.drop(['Unnamed: 0'], inplace=True, axis=1)\n",
        "print(totalData.shape)\n",
        "totalData = totalData.dropna()\n",
        "print(totalData.shape)"
      ],
      "metadata": {
        "colab": {
          "base_uri": "https://localhost:8080/"
        },
        "id": "JBXNmwj1-BRN",
        "outputId": "738699af-5a37-4126-dec7-2b86edac56c3"
      },
      "execution_count": null,
      "outputs": [
        {
          "output_type": "stream",
          "name": "stdout",
          "text": [
            "(44898, 2)\n",
            "(44891, 2)\n"
          ]
        }
      ]
    },
    {
      "cell_type": "code",
      "source": [
        "print(totalData['title'])"
      ],
      "metadata": {
        "colab": {
          "base_uri": "https://localhost:8080/"
        },
        "id": "tFdyu6pa_ILz",
        "outputId": "a511c6b7-610d-4c2d-cc0c-b4e7aa71b31e"
      },
      "execution_count": null,
      "outputs": [
        {
          "output_type": "stream",
          "name": "stdout",
          "text": [
            "0        donald trump sends out embarrassing new years ...\n",
            "1        drunk bragging trump staffer started russian c...\n",
            "2        sheriff david clarke becomes an internet joke ...\n",
            "3        trump is so obsessed he even has obamas name c...\n",
            "4        pope francis just called out donald trump duri...\n",
            "                               ...                        \n",
            "44893    fully committed nato backs new us approach on ...\n",
            "44894    lexisnexis withdrew two products from chinese ...\n",
            "44895    minsk cultural hub becomes haven from authorities\n",
            "44896    vatican upbeat on possibility of pope francis ...\n",
            "44897    indonesia to buy 114 billion worth of russian ...\n",
            "Name: title, Length: 44891, dtype: object\n"
          ]
        }
      ]
    },
    {
      "cell_type": "code",
      "source": [
        "def lemmatize(text):\n",
        "  lm = WordNetLemmatizer()\n",
        "  tokens = [lm.lemmatize(word) for word in text.split()]\n",
        "  return \" \".join(tokens)\n"
      ],
      "metadata": {
        "id": "rzzBSbc6-iJt"
      },
      "execution_count": null,
      "outputs": []
    },
    {
      "cell_type": "code",
      "source": [
        "## need to lemmatize all the titles by using the lemmatize function\n",
        "totalData['title'] = totalData['title'].apply(lemmatize)"
      ],
      "metadata": {
        "id": "hYwCdolG_i74"
      },
      "execution_count": null,
      "outputs": []
    },
    {
      "cell_type": "code",
      "source": [
        "y = totalData['class']\n",
        "x = totalData.drop('class', axis=1)"
      ],
      "metadata": {
        "id": "Qf1QBIQhBAE4"
      },
      "execution_count": null,
      "outputs": []
    },
    {
      "cell_type": "code",
      "source": [
        "print(x['title'])"
      ],
      "metadata": {
        "colab": {
          "base_uri": "https://localhost:8080/"
        },
        "id": "uT9k1mFKB0PW",
        "outputId": "a58747c4-5705-4700-eff2-3fc98f7ba56a"
      },
      "execution_count": null,
      "outputs": [
        {
          "output_type": "stream",
          "name": "stdout",
          "text": [
            "0        donald trump sends out embarrassing new year e...\n",
            "1        drunk bragging trump staffer started russian c...\n",
            "2        sheriff david clarke becomes an internet joke ...\n",
            "3        trump is so obsessed he even ha obamas name co...\n",
            "4        pope francis just called out donald trump duri...\n",
            "                               ...                        \n",
            "44893    fully committed nato back new u approach on af...\n",
            "44894    lexisnexis withdrew two product from chinese m...\n",
            "44895      minsk cultural hub becomes haven from authority\n",
            "44896    vatican upbeat on possibility of pope francis ...\n",
            "44897    indonesia to buy 114 billion worth of russian jet\n",
            "Name: title, Length: 44891, dtype: object\n"
          ]
        }
      ]
    },
    {
      "cell_type": "code",
      "source": [
        "x_train, x_test, y_train, y_test = train_test_split(x, y, test_size=0.3, stratify=y, random_state=100)"
      ],
      "metadata": {
        "id": "3VX8UZKhB4q0"
      },
      "execution_count": null,
      "outputs": []
    },
    {
      "cell_type": "code",
      "source": [
        "tfidf = TfidfVectorizer(stop_words='english', ngram_range=(1,3), lowercase=True, max_features=5000)\n",
        "x_train_trans = tfidf.fit_transform(x_train['title'])\n",
        "x_test_trans = tfidf.fit_transform(x_test['title'])\n",
        "print(x_train)\n",
        "print(x_train_trans)"
      ],
      "metadata": {
        "id": "f558Z8TBCu8g",
        "colab": {
          "base_uri": "https://localhost:8080/"
        },
        "outputId": "2c11930e-8dca-4267-9021-14a7871e7365"
      },
      "execution_count": null,
      "outputs": [
        {
          "output_type": "stream",
          "name": "stdout",
          "text": [
            "                                                   title\n",
            "2413   ivanka trump tweeted about religious tolerance...\n",
            "29801            house vote to begin repealing obamacare\n",
            "34531             trump skip debate win on social medium\n",
            "43993  with trump meeting malaysia pm seek to put 1md...\n",
            "93     texas sheriff threatens to jail truck owner fo...\n",
            "...                                                  ...\n",
            "24297  exdemocratic leader who mulled dropping clinto...\n",
            "42173  only miracle can move brexit talk forward by o...\n",
            "32245  trump demand u supreme court justice ginsburg ...\n",
            "21567  the list of who who taking advantage of failed...\n",
            "19274  gang of domestic terrorist violently attack lo...\n",
            "\n",
            "[31423 rows x 1 columns]\n",
            "  (0, 2199)\t0.36372101265184437\n",
            "  (0, 1846)\t0.38314491498252995\n",
            "  (0, 2040)\t0.4230518149022874\n",
            "  (0, 1766)\t0.30449081085375324\n",
            "  (0, 3495)\t0.37616005325436547\n",
            "  (0, 4641)\t0.4230518149022874\n",
            "  (0, 4456)\t0.11006922139743076\n",
            "  (0, 2198)\t0.34151874009572075\n",
            "  (1, 2009)\t0.4995488627544455\n",
            "  (1, 2955)\t0.3547033359307121\n",
            "  (1, 3510)\t0.5243186881240447\n",
            "  (1, 386)\t0.44156962081370804\n",
            "  (1, 4761)\t0.29392891275483696\n",
            "  (1, 1987)\t0.2614353738602386\n",
            "  (2, 3995)\t0.43473713344574527\n",
            "  (2, 2637)\t0.31885177022378514\n",
            "  (2, 3994)\t0.4040262531542247\n",
            "  (2, 4910)\t0.3480771174081499\n",
            "  (2, 1081)\t0.36961654434071095\n",
            "  (2, 3961)\t0.5188513341240746\n",
            "  (2, 4456)\t0.1382721365815447\n",
            "  (3, 4523)\t0.5008226574126767\n",
            "  (3, 3776)\t0.3955095315741628\n",
            "  (3, 3829)\t0.34336230144191227\n",
            "  (3, 3168)\t0.3279944797439839\n",
            "  :\t:\n",
            "  (31420, 4199)\t0.267320346849275\n",
            "  (31420, 972)\t0.2237815161509817\n",
            "  (31420, 2308)\t0.27961115885582744\n",
            "  (31420, 4456)\t0.10200358266876579\n",
            "  (31421, 1491)\t0.41913222398297767\n",
            "  (31421, 107)\t0.4909050564003483\n",
            "  (31421, 1421)\t0.30096271031881033\n",
            "  (31421, 2501)\t0.364060835154169\n",
            "  (31421, 1791)\t0.4480571333320426\n",
            "  (31421, 4256)\t0.39933239912926055\n",
            "  (31422, 3369)\t0.3067889708390105\n",
            "  (31422, 4749)\t0.34627937988612206\n",
            "  (31422, 1256)\t0.3431547096423778\n",
            "  (31422, 1255)\t0.29927924576649145\n",
            "  (31422, 4099)\t0.311833078718831\n",
            "  (31422, 1689)\t0.300267590658171\n",
            "  (31422, 1068)\t0.26510310164983597\n",
            "  (31422, 4569)\t0.22502565089341964\n",
            "  (31422, 2017)\t0.24279509096340945\n",
            "  (31422, 4320)\t0.22248802235898013\n",
            "  (31422, 4142)\t0.2495467817710755\n",
            "  (31422, 4191)\t0.20334645563672765\n",
            "  (31422, 302)\t0.19203255300978953\n",
            "  (31422, 4731)\t0.1182751091460192\n",
            "  (31422, 4456)\t0.08597643417355558\n"
          ]
        }
      ]
    },
    {
      "cell_type": "code",
      "source": [
        "x_train_trans.shape"
      ],
      "metadata": {
        "colab": {
          "base_uri": "https://localhost:8080/"
        },
        "id": "UizHYl6yDbpc",
        "outputId": "acbe952e-c7f2-44c7-d5a2-b126969d790b"
      },
      "execution_count": null,
      "outputs": [
        {
          "output_type": "execute_result",
          "data": {
            "text/plain": [
              "(31423, 5000)"
            ]
          },
          "metadata": {},
          "execution_count": 109
        }
      ]
    },
    {
      "cell_type": "code",
      "source": [
        "rfc = RandomForestClassifier()\n",
        "rfc.fit(x_train_trans, y_train)"
      ],
      "metadata": {
        "colab": {
          "base_uri": "https://localhost:8080/"
        },
        "id": "gjg0kjoYGCKt",
        "outputId": "ffac7bb5-2bcd-4a49-8521-aafc5e88a914"
      },
      "execution_count": null,
      "outputs": [
        {
          "output_type": "execute_result",
          "data": {
            "text/plain": [
              "RandomForestClassifier()"
            ]
          },
          "metadata": {},
          "execution_count": 110
        }
      ]
    },
    {
      "cell_type": "code",
      "source": [
        "y_pred = rfc.predict(x_test_trans)"
      ],
      "metadata": {
        "id": "bDX9C-o-Gg59"
      },
      "execution_count": null,
      "outputs": []
    },
    {
      "cell_type": "code",
      "source": [
        "confusion_matrix(y_test, y_pred)"
      ],
      "metadata": {
        "colab": {
          "base_uri": "https://localhost:8080/"
        },
        "id": "-B5v-xN_HEXj",
        "outputId": "a4ebeff0-08cd-4c16-c1ac-431f44d46f95"
      },
      "execution_count": null,
      "outputs": [
        {
          "output_type": "execute_result",
          "data": {
            "text/plain": [
              "array([[5248, 1795],\n",
              "       [4796, 1629]])"
            ]
          },
          "metadata": {},
          "execution_count": 112
        }
      ]
    },
    {
      "cell_type": "code",
      "source": [
        "accuracy_score(y_test, y_pred)"
      ],
      "metadata": {
        "colab": {
          "base_uri": "https://localhost:8080/"
        },
        "id": "0e-uqInPGvMV",
        "outputId": "58f0950b-a845-4a38-ea69-3c4299f8b3d7"
      },
      "execution_count": null,
      "outputs": [
        {
          "output_type": "execute_result",
          "data": {
            "text/plain": [
              "0.5106177606177607"
            ]
          },
          "metadata": {},
          "execution_count": 113
        }
      ]
    }
  ]
}